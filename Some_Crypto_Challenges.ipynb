{
  "nbformat": 4,
  "nbformat_minor": 0,
  "metadata": {
    "colab": {
      "name": "Some Crypto Challenges",
      "provenance": [],
      "collapsed_sections": [],
      "toc_visible": true
    },
    "kernelspec": {
      "display_name": "Python 3",
      "name": "python3"
    }
  },
  "cells": [
    {
      "cell_type": "markdown",
      "source": [
        "# Cryptopals Challenges"
      ],
      "metadata": {
        "id": "tuFAEWUgHhKS"
      }
    },
    {
      "cell_type": "markdown",
      "metadata": {
        "id": "p6qluuknvyJq"
      },
      "source": [
        "## SET 01 BASIC"
      ]
    },
    {
      "cell_type": "markdown",
      "metadata": {
        "id": "mL9WcQREyAw-"
      },
      "source": [
        "**Challenge 1** - Convert hex to base64"
      ]
    },
    {
      "cell_type": "code",
      "metadata": {
        "id": "mRXwfTDCmL13",
        "colab": {
          "base_uri": "https://localhost:8080/"
        },
        "outputId": "eeaffedc-e473-4023-bb1b-977db172749c"
      },
      "source": [
        "#hex to b64 \n",
        "\n",
        "import codecs\n",
        "\n",
        "hex = '49276d206b696c6c696e6720796f757220627261696e206c696b65206120706f69736f6e6f7573206d757368726f6f6d'\n",
        "\n",
        "def hex2b64(hex):\n",
        "  return codecs.encode(codecs.decode(hex, 'hex'), 'base64').decode()\n",
        "\n",
        "print(f'base64: {hex2b64(hex)}')\n"
      ],
      "execution_count": null,
      "outputs": [
        {
          "output_type": "stream",
          "text": [
            "base64: SSdtIGtpbGxpbmcgeW91ciBicmFpbiBsaWtlIGEgcG9pc29ub3VzIG11c2hyb29t\n",
            "\n"
          ],
          "name": "stdout"
        }
      ]
    },
    {
      "cell_type": "markdown",
      "metadata": {
        "id": "MeZ145_WyPjZ"
      },
      "source": [
        "**Challenge 2** - Fixed XOR"
      ]
    },
    {
      "cell_type": "code",
      "metadata": {
        "id": "K6ilD7oYmO5B",
        "colab": {
          "base_uri": "https://localhost:8080/"
        },
        "outputId": "4937bf01-0e3d-43f1-a0ca-c7e90e9bbace"
      },
      "source": [
        "#xor 2 sequences of hex\n",
        "\n",
        "def xor(first, second):\n",
        "   return bytearray(x^y for x,y in zip(first, second))\n",
        "\n",
        "HEX_1 = input(\"HEX 1: \")\n",
        "HEX_2 = input(\"HEX 2: \")\n",
        "\n",
        "D1 = bytearray.fromhex(HEX_1)\n",
        "D2 = bytearray.fromhex(HEX_2)\n",
        "\n",
        "r1 = xor(D1, D2)\n",
        "\n",
        "print(r1.hex())\n",
        "\n",
        "\n"
      ],
      "execution_count": null,
      "outputs": [
        {
          "output_type": "stream",
          "text": [
            "HEX 1: 6461\n",
            "HEX 2: 6261\n",
            "0600\n"
          ],
          "name": "stdout"
        }
      ]
    },
    {
      "cell_type": "markdown",
      "metadata": {
        "id": "Lits__EM0a5I"
      },
      "source": [
        "**Challenge 3** - Single-byte XOR cipher\n",
        "\n",
        "\n",
        "---\n",
        "\n",
        "\n",
        "-\tTry all the 256 possibilities of the XOR key (as the XOR key is a 8 bit length hex character, 28 = 256)\n",
        "\n",
        "- Filter out the best result by a scoring function.\n",
        "\n",
        "-\tThe scoring function grades a decoded string by the sum of its letter’s frequencies. \n",
        "- The higher the score is, the more it is likely to be an English message.\n"
      ]
    },
    {
      "cell_type": "code",
      "metadata": {
        "id": "fVz-Okzc_1gS"
      },
      "source": [
        "import binascii\n",
        "\n",
        "\n",
        "\n",
        "def scoring(str):\n",
        "    # From https://en.wikipedia.org/wiki/Letter_frequency\n",
        "    \n",
        "    character_frequencies = {\n",
        "        'a': .08167, 'b': .01492, 'c': .02782, 'd': .04253,\n",
        "        'e': .12702, 'f': .02228, 'g': .02015, 'h': .06094,\n",
        "        'i': .06094, 'j': .00153, 'k': .00772, 'l': .04025,\n",
        "        'm': .02406, 'n': .06749, 'o': .07507, 'p': .01929,\n",
        "        'q': .00095, 'r': .05987, 's': .06327, 't': .09056,\n",
        "        'u': .02758, 'v': .00978, 'w': .02360, 'x': .00150,\n",
        "        'y': .01974, 'z': .00074, ' ': .13000\n",
        "    }\n",
        "    score = 0\n",
        "    for char in str.lower():\n",
        "      if char in character_frequencies:\n",
        "        score+=character_frequencies[char]\n",
        "    return score\n",
        "\n",
        "\n",
        "def single_byte_xor(encoded):\n",
        "  plain = None\n",
        "  key = None\n",
        "  for xor_key in range(256):\n",
        "    decoded = (''.join(chr(a ^ xor_key) for a in encoded))\n",
        "    if plain == None or scoring(decoded) > scoring(plain):\n",
        "      plain = decoded\n",
        "      key = chr(xor_key)\n",
        "  return plain, key\n"
      ],
      "execution_count": null,
      "outputs": []
    },
    {
      "cell_type": "code",
      "metadata": {
        "colab": {
          "base_uri": "https://localhost:8080/"
        },
        "id": "_gebOCC_KTAh",
        "outputId": "87b46980-cf1e-4e15-ff63-9a376b7635e0"
      },
      "source": [
        "\n",
        "HEX = '1b37373331363f78151b7f2b783431333d78397828372d363c78373e783a393b3736'\n",
        "\n",
        "encoded = binascii.unhexlify(HEX)\n",
        "print(single_byte_xor(encoded))"
      ],
      "execution_count": null,
      "outputs": [
        {
          "output_type": "stream",
          "text": [
            "(\"Cooking MC's like a pound of bacon\", 'X')\n"
          ],
          "name": "stdout"
        }
      ]
    },
    {
      "cell_type": "markdown",
      "metadata": {
        "id": "5yYyX1A21Ohp"
      },
      "source": [
        "**Challenge 4** - Detect single-character XOR\n",
        "\n",
        "\n",
        "---\n",
        "\n",
        "- Slit the input string into substrings.\n",
        "- Use a for loop to bruteforce each of the string, as challenge 3, and find the best string"
      ]
    },
    {
      "cell_type": "markdown",
      "metadata": {
        "id": "dsW9KKur2hIg"
      },
      "source": [
        "- Split the input string into\n",
        "substrings.\n",
        "\n",
        "- Use a for loop to bruteforce each \n",
        "of the string, as challenge 3, and find the best string"
      ]
    },
    {
      "cell_type": "code",
      "metadata": {
        "id": "2u6B_l-n_7PG"
      },
      "source": [
        "import binascii\n",
        "\n",
        "def scoring(str):\n",
        "    # From https://en.wikipedia.org/wiki/Letter_frequency\n",
        "    character_frequencies = {\n",
        "        'a': .08167, 'b': .01492, 'c': .02782, 'd': .04253,\n",
        "        'e': .12702, 'f': .02228, 'g': .02015, 'h': .06094,\n",
        "        'i': .06094, 'j': .00153, 'k': .00772, 'l': .04025,\n",
        "        'm': .02406, 'n': .06749, 'o': .07507, 'p': .01929,\n",
        "        'q': .00095, 'r': .05987, 's': .06327, 't': .09056,\n",
        "        'u': .02758, 'v': .00978, 'w': .02360, 'x': .00150,\n",
        "        'y': .01974, 'z': .00074, ' ': .13000\n",
        "    }\n",
        "    score = 0\n",
        "    for char in str.lower():\n",
        "      if char in character_frequencies:\n",
        "        score+=character_frequencies[char]\n",
        "    return score\n",
        "\n",
        "\n",
        "def single_byte_xor(encoded,res):\n",
        "  plain = res\n",
        "  key = None\n",
        "  for xor_key in range(256):\n",
        "    decoded = (''.join(chr(a ^ xor_key) for a in encoded))\n",
        "    if plain == None or scoring(decoded) > scoring(plain):\n",
        "      plain = decoded\n",
        "      key = chr(xor_key)\n",
        "  return plain"
      ],
      "execution_count": null,
      "outputs": []
    },
    {
      "cell_type": "code",
      "metadata": {
        "colab": {
          "base_uri": "https://localhost:8080/"
        },
        "id": "m3RAdtl8ZrY7",
        "outputId": "f10a7fd1-12f4-4f74-929c-39c618b9f92a"
      },
      "source": [
        "import requests\n",
        "str = requests.get('https://cryptopals.com/static/challenge-data/4.txt').text\n",
        "str = str.split('\\n')\n",
        "res =''\n",
        "\n",
        "#perform a bruteforce for each of the sub-string\n",
        "for i in str:\n",
        "  encoded = binascii.unhexlify(i)\n",
        "  res=single_byte_xor(encoded,res)\n",
        "\n",
        "print(res)"
      ],
      "execution_count": null,
      "outputs": [
        {
          "output_type": "stream",
          "text": [
            "Now that the party is jumping\n",
            "\n"
          ],
          "name": "stdout"
        }
      ]
    },
    {
      "cell_type": "markdown",
      "metadata": {
        "id": "EbwFB4Tz3PcC"
      },
      "source": [
        "**Challenge 5** - Implement repeating-key XOR"
      ]
    },
    {
      "cell_type": "code",
      "metadata": {
        "colab": {
          "base_uri": "https://localhost:8080/"
        },
        "id": "seuyBk--r3_3",
        "outputId": "627d33cb-ef1a-422f-e924-4905d1497eef"
      },
      "source": [
        "\n",
        "def xor(first, second):\n",
        "   return bytearray(x^y for x,y in zip(first, second))\n",
        "\n",
        "\n",
        "HEX_1 = \"Burning 'em, if you ain't quick and nimble I go crazy when I hear a cymbal\"\n",
        "print(\"Plaintext: \", HEX_1)\n",
        "HEX_2 = input(\"Key: \")\n",
        "\n",
        "\n",
        "def repeating_key_xor(D1, D2):  \n",
        "  D1 = bytes(HEX_1, 'utf-8')\n",
        "  D2 = bytes(HEX_2, 'utf-8')\n",
        "  D2 = D2*(len(D1)//len(D2)+1) #repeat the key to the text size\n",
        "  print (D2)\n",
        "  return(xor(D1,D2))\n",
        "\n",
        "print(repeating_key_xor(HEX_1,HEX_2).hex())"
      ],
      "execution_count": null,
      "outputs": [
        {
          "output_type": "stream",
          "text": [
            "Plaintext:  Burning 'em, if you ain't quick and nimble I go crazy when I hear a cymbal\n",
            "Key: ICE\n",
            "b'ICEICEICEICEICEICEICEICEICEICEICEICEICEICEICEICEICEICEICEICEICEICEICEICEICE'\n",
            "0b3637272a2b2e63622c2e69692a23693a2a3c6324202d623d63343c2a26226324272765272a282b2f20690a652e2c652a3124333a653e2b2027630c692b20283165286326302e27282f\n"
          ],
          "name": "stdout"
        }
      ]
    },
    {
      "cell_type": "markdown",
      "metadata": {
        "id": "w1pCGUWc3sNa"
      },
      "source": [
        "**Challenge 6** - Break repeating-key XOR\n",
        "\n",
        "\n",
        "---\n",
        "\n",
        "\n",
        "[Reference here.](https://laconicwolf.com/2018/06/30/cryptopals-challenge-6-break-repeating-key-xor/)"
      ]
    },
    {
      "cell_type": "code",
      "metadata": {
        "id": "lcgOOJBn3nZZ"
      },
      "source": [
        "\n",
        "import requests\n",
        "import base64\n",
        "#==================================================\n",
        "def scoring(str):\n",
        "    character_frequencies = {\n",
        "        'a': .08167, 'b': .01492, 'c': .02782, 'd': .04253,\n",
        "        'e': .12702, 'f': .02228, 'g': .02015, 'h': .06094,\n",
        "        'i': .06094, 'j': .00153, 'k': .00772, 'l': .04025,\n",
        "        'm': .02406, 'n': .06749, 'o': .07507, 'p': .01929,\n",
        "        'q': .00095, 'r': .05987, 's': .06327, 't': .09056,\n",
        "        'u': .02758, 'v': .00978, 'w': .02360, 'x': .00150,\n",
        "        'y': .01974, 'z': .00074, ' ': .13000\n",
        "    }\n",
        "    score = 0\n",
        "    for char in str.lower():\n",
        "      if char in character_frequencies:\n",
        "        score+=character_frequencies[char]\n",
        "    return score\n",
        "\n",
        "def single_byte_xor(encoded):\n",
        "  key = None\n",
        "  plain = None\n",
        "  for xor_key in range(256):\n",
        "    decoded = (''.join(chr(a ^ xor_key) for a in encoded))\n",
        "    if plain == None or scoring(decoded) > scoring(plain):\n",
        "      key =chr(xor_key)\n",
        "      plain = decoded\n",
        "  return key, plain\n",
        "def xor(first, second):\n",
        "   return bytearray(x^y for x,y in zip(first, second))"
      ],
      "execution_count": null,
      "outputs": []
    },
    {
      "cell_type": "markdown",
      "metadata": {
        "id": "lBdgeEl74Yyi"
      },
      "source": [
        "- Define Hamming distance calculating function.\n",
        "> The Hamming distance is the amount of bits that differ. XOR two strings and count the number of bits 1. "
      ]
    },
    {
      "cell_type": "code",
      "metadata": {
        "id": "lTaZkgJk4Qvo",
        "colab": {
          "base_uri": "https://localhost:8080/"
        },
        "outputId": "711ae118-684b-407e-81ca-9d72385643f4"
      },
      "source": [
        "#===================================================\n",
        "#func to calculate hamming distance between 2 strings\n",
        "def hammingdst(str1, str2):\n",
        "  diff = 0\n",
        "  for byte in xor(str1, str2):\n",
        "    diff+= bin(byte).count(\"1\")\n",
        "  return diff\n",
        "\n",
        "\n",
        "\n",
        "  \n",
        "str1 = 'this is a test'\n",
        "str2 = 'wokka wokka!!!'\n",
        "str1 = bytes(str1, 'utf-8')\n",
        "str2 = bytes(str2, 'utf-8')\n",
        "\n",
        "print(hammingdst(str1, str2))"
      ],
      "execution_count": null,
      "outputs": [
        {
          "output_type": "stream",
          "text": [
            "37\n"
          ],
          "name": "stdout"
        }
      ]
    },
    {
      "cell_type": "markdown",
      "metadata": {
        "id": "L8ONuseO4u6j"
      },
      "source": [
        "- Let KEYSIZE be the guessed length of the key.\n",
        " > try values from 2 to 40.\n",
        "\n",
        "\n",
        "\n",
        "\n",
        "- Calculate Hamming distance of the ciphertext for each key size.\n",
        "- Sort and store the results in a list"
      ]
    },
    {
      "cell_type": "code",
      "metadata": {
        "id": "hqm7MKrR4wJd",
        "colab": {
          "base_uri": "https://localhost:8080/"
        },
        "outputId": "3df68a56-974e-4a0f-95e4-7dee477ae181"
      },
      "source": [
        "\n",
        "\n",
        "#import cipher (in base64) and decode it into bytearray\n",
        "cipher = requests.get('https://cryptopals.com/static/challenge-data/6.txt').text\n",
        "cipher=bytearray(base64.b64decode(cipher.encode('ascii')).decode('ascii'), 'utf-8')\n",
        "\n",
        "#the average distance value of each keysize case is stored in distances_list\n",
        "distances_list = []\n",
        "\n",
        "for test_size in range(2,40):\n",
        "  text1 = cipher[:test_size]\n",
        "  text2 = cipher[test_size: test_size*2]\n",
        "  text3 = cipher[test_size*2: test_size*3]\n",
        "  text4 = cipher[test_size*3: test_size*4]\n",
        "\n",
        "  distance = (hammingdst(text1, text2) + hammingdst(text2, text3) + hammingdst(text3, text4))/(test_size*3)\n",
        "  distances_list.append([test_size, distance])\n",
        "\n",
        "print(distances_list)\n",
        "\n",
        "distances_list = sorted(distances_list, key = lambda distances_list: distances_list[1])"
      ],
      "execution_count": null,
      "outputs": [
        {
          "output_type": "stream",
          "text": [
            "[[2, 2.0], [3, 2.6666666666666665], [4, 3.4166666666666665], [5, 2.8], [6, 3.388888888888889], [7, 3.238095238095238], [8, 3.125], [9, 3.2222222222222223], [10, 3.466666666666667], [11, 3.242424242424242], [12, 3.4166666666666665], [13, 3.1025641025641026], [14, 3.1904761904761907], [15, 3.2222222222222223], [16, 3.3125], [17, 3.215686274509804], [18, 2.9444444444444446], [19, 3.1052631578947367], [20, 3.066666666666667], [21, 3.2857142857142856], [22, 3.4393939393939394], [23, 3.2753623188405796], [24, 3.1805555555555554], [25, 3.24], [26, 3.371794871794872], [27, 3.432098765432099], [28, 3.2261904761904763], [29, 2.793103448275862], [30, 3.188888888888889], [31, 3.032258064516129], [32, 3.40625], [33, 3.3434343434343434], [34, 3.2058823529411766], [35, 3.238095238095238], [36, 3.5277777777777777], [37, 3.2162162162162162], [38, 3.289473684210526], [39, 3.1452991452991452]]\n"
          ],
          "name": "stdout"
        }
      ]
    },
    {
      "cell_type": "markdown",
      "metadata": {
        "id": "HvNtpRGh6ZKe"
      },
      "source": [
        "- Select the 3 most likely keysize"
      ]
    },
    {
      "cell_type": "code",
      "metadata": {
        "id": "pwVvWejS6OHd"
      },
      "source": [
        "\n",
        "keysizes = (distances_list[0][0], distances_list[1][0], distances_list[2][0])\n"
      ],
      "execution_count": null,
      "outputs": []
    },
    {
      "cell_type": "markdown",
      "metadata": {
        "id": "QUHrdRLl6mOQ"
      },
      "source": [
        "- Break the cipher into blocks of KEYSIZE length.\n",
        "- Transpose them, make a block is the first byte of every blocks, a block is the second bytes of every blocks and so on.\n",
        "- Treat each block as single-character XOR cipher in challenge 3. \n",
        "> Combine the single-character key of every block, now we got the repeating-key XOR key.\n"
      ]
    },
    {
      "cell_type": "code",
      "metadata": {
        "colab": {
          "base_uri": "https://localhost:8080/"
        },
        "id": "P_HQP1EmjNf3",
        "outputId": "16349690-f714-4551-b36d-da77385a7945"
      },
      "source": [
        "\n",
        "#for each keysize case:\n",
        "\n",
        "for KEYSIZE in keysizes:\n",
        "  key=b''\n",
        "  for i in range(KEYSIZE):\n",
        "    #break into blocks and transpose them\n",
        "    block = b''\n",
        "    for j in range(i, len(cipher), KEYSIZE):\n",
        "      block+=bytes([cipher[j]])\n",
        "    \n",
        "    key +=bytes(single_byte_xor(block)[0],('utf-8'))\n",
        "\n",
        "  #repeat the key\n",
        "    \n",
        "  keyx = bytearray(key * (len(cipher)//len(key)+1))\n",
        "  plaintext = bytes(xor(cipher, keyx))\n",
        "\n",
        "  print(key)\n",
        "  print(KEYSIZE)\n",
        "  print(plaintext)\n"
      ],
      "execution_count": null,
      "outputs": [
        {
          "output_type": "stream",
          "text": [
            "b'nn'\n",
            "2\n",
            "b's,q#ealq!} Rt\\x07\\x0bq\\'r` }oei uox+Xnpo\\'\\nN:ss-]= \\x0b<hn):rc+#ijb=|Rbpf\\'tg\\x7f!z\"Ot)Enks)7\\x7fjgn\\nHi=nYxhbty/so<:^1nN}dk)!|&f+ \\x0bPxgV+hkft(i!q7\\x16\\x10\\x04\\x0cXbsa/c&h;tuns,\\x1ajpo\\'tg\\x7fl<\\x14\\x11\\'n&Tnt}\\'t!+&asc=jTo<woe/}hn\"_1=\\x0c{higi:ey/zx\\'\\x17][euoka(i!s \\x16 &I<jib+6&f/n!N:f\\x1aesw\\'ln`x2n<^\\x07\\x0bq\\'ll:noei l~=oH~{#lilq!u \\x16^\\x07X<dog:hig= l~=fU~hk\\'aa~!UnT1)Er\\'\\n]!:l~=t!kx\\x7f\\x1abh#al`m-<\"S nAe\\'cf yc{:s!`r+0Fe#wo|id;=\\x16 !\\x0choe)=sbnnydkqbT,0#@o/L`r\\'Z8/\\x0c[h!)D\\x10Uf!ouo=,Yjipb {r`hiEt:Dy\\'wh7:O+9imk=i_+\\x16Bid/sg<7Y!nHsi\\'}n}o}+ `\\'yjWe0#shjt!\\x16\\x19^-nUsr z:{tb \\'!fi+Wn<\\tTo/}dhnY2(\\x0c;da|=\\x7f&BncniiyUg<woe/iu})StDxtbrlii&e! ennxSe;#flcuvy*\\x16^\\x07\\x0bq\\'ignw\\x7f+!wo\\'mc[xy#\\rTg\\x7f!{\\'D8\\'Io\\'shnc&\\x7f&ex\\'qdLn<nb nte<:^5:\\x0cut f%:\\x0cJ d!N=h[e<gfnl\\x7f!~+B +^<shh :ge7 jny+T,<skav:\\x0b\\x16\\x1dB5)I<5 $c:_n/ uox+Uey#~a(:v} X5n@uttl :rdn\\nHs:x\\x1adze\\'mv:iy/Rt=C<ke}nnnnnbdfi+Jg}z\\'tghni)^tD\\x7fs\\'I)-{h+(uol=bN+is\\'aa~!q/]1nEh\\'sf;tb+)onc=\\x01\\x0b&..4 Vu!1c\\x16\\x1f C\\x7fl f :ud#e!prd^+\\x16Ehr/}ns*\\x168;Ow+ @nvo`+ l~=yRrqft nnss-_;;_<\\rS|>\\x7fth/l`aoj]bpjttfydd>_5\"Exhc`!ou+DI&j=jT+yeaeln!} Rt:D}s p!o&h/n!ex\\x7f\\x1a\\x01U#daa:u}%St/\\x0czky))stgnaoc=f[`y#oe}:vy:\\x18tD&U m)\"smnnS`jndT+1.\\'Snwrs \\x16 !\\x0cXbl`\"{n+DTibon\\x1dx<mh k\\x7foe\\'Xsb\\x0cEhu)-{h+:rx\\'id\\x1ac}m` \\x05XthnO;;\\x0bpk b+\\x7fv+:rxns,\\x1a\\x7fs#`e{:lenE 7@y\\'\\nF8\\x7ft+/ne\\'r}_y0#wrnyuu-St#Mwbs)>\\x7ftm+cu\\'\\x17IO\\x7f<mht/sg<7Y!i^y\\'a)\"ugm+r/\\'\\x17\\x01cdi$kl/}dhnX;9Dyue%nti+>l`dx\\'\\x1aes#sib\\x7f-< Yt)Enks)DIid  ,*=DR+qz\\'G`~-<&Y9+Nscy%nci~npsh\\x7fjXge#ba{:\\x0bO>W3&Ihsi)9srcna!tmdUe=#Dob\\x7f!s \\x165 H<tapnsr*n\\n\\x0bQT[\\x14+Jbiicv`<\\x07U1nUyw,)7\\x7fv\\'nI&j=hUfum  g{sxnZ=%I<f {&shdn\\nHiidBb\\x7fbsia}!o!\\x16-!Y<tth)}cynlhlx+[+kjio/\\x10RsnF! Go\\'s}!j&\\x7f<yhiz+[ex#`i}v!o:Y$nOn~igi:\\x0c]/nhkqj\\x1aB\\x7ff\\'i|:ry\"Z= \\x0b<fnmnci~npdhmg_+}qb moxu \\x11tD\\x0b_fuz+:qc7 uox+\\\\yybls/{syn\\\\;-Gui\\')\"smnnCsfgr\\x1aLpvb \\x05Wnj\\'XsnMrc n<ui}\\'n&\\'iyCbrd\\'t`:ru Qt/@sig)D[jgntiur~]c<woe/}iy:B;nKnho\\x7f\\'t!+:hht=c_yy#toa}!\\x16\\x00Y#nUsr\\'{+:gf/zdc=iC+hkb YSQ<>Y\\'=I2\\'\\n\\x03\\x1dnc{>io =xU+tbud/vhw+\\x165nkyumh :Hj4i!\\rN\\x7f[yhobd/xx<:^1nN}teznro\\x7f:io =lHdimc \\x05Niy<Ss=\\x0crh }<sv{\\'n&\\'re\\x1afumb,/S&qn\\\\!=X<`e}:sh,ndnps+0Xlbuknw`h\\'Uxne;j a/tab \\'!stlR\\x7f<onkj:`<(W:/Xud \\x03\\x17us+:r`wmn^+qf\\'oayd</X0ne<shf;}n\\x7fntifi+0Rsv\\'mf}ihn^58I<nt)DIi+=tdw=oU|r#fnk:my Rt#I<~o|<:cj< \\x0b %2\\x1abr#jy/nhq+\\x17t\\x17Ci+ .w*&b= l~=r_jn-\\'\\n\\x05CniiD1n[yfkl sh,nf`ti\\'\\x1aRS\"\\'aa~!UnU5 \\x0chblensr+DYnro+Xdxz s/}dh:_:i\\x0ctht%nii\\'nsn\\'T+Yjr#tmjvm<\\'BtD\\x7fs\\'df =r+,e!j|o\\x1ajrg\\'d`t&hnT1n_}c \\x03iYg~=e!sun\\x1ageqnc|:cy\"Y:)\\x0chh @\\r_*+\\x17ot\\'~jT+\\x7fbkl/wd<\\nW0n&Ehu.<\\x7f&{\\'tbote\\x1d+}#ai{6!o!\\x16\\':Il\\'bh-q&j d!bsoOyy#\\rLjn!h&St9Ehdh)*ue\\x7f!r-\\'Th_\\'<gh {rd<*W:-I<so)-otnn\\nRh=hUfy#rp/yms=St/Bx\\'df =r+,e!tl~[yy#\\rY`o!k/X:/\\x0c~ft}\"\\x7f&f+ ,*=JTrhjje#:`r7A<+^y\\'\\n\\x03\\x17us+:hnrzcN+hkft/S!k/Et9I}l,)\\x0cu\\x7f\\'nynr:y_+xffd/mss QtD\\x7fs\\'cf#\\x7f&d ,!bknHr~lcy/{oxnE= K<sh`=:ud g!\\r\\x17X[r<.* _v`enB</X<aug%c&f;shd=X[r0#`o/miu:St,Ce+ n!:qc\\'td\\'\\x7fdC+{l\\'\\n\\x7fv`enB</X<aug%c&f;shd=LU+kkntj:cs7\\x1at)C<ph`:\\x7f&i!y-\\'zd\\x1a\\x01Pb~ kuvrnW:*\\x0c~hon\\'\\x7f&j d!wqjC+hkft/|tr%Ot#Yonc):sjgnynr=oSn2#\\r\\n_v`enB</X<aug%c&f;shd=HUfy#hn#:Bs#St!B0\\'ll::knnhdfo+0[pb~ {r`hnP! Ge\\'m|=se+9hhsx+Xde#~oz:r}7\\x16=:\\x00<tapnsr+DPmfd+Nc}w\\'fztjen[!=E\\x7f\\'A)\"sr\\x7f\"e!kr~^nn#iox:\\x0bL\"W-nXtft)(oh`7 lrnbY\\'<toi{\\x7f!~!Ot\\rCqb f 6&H!md\\'re\\x16+_lje/uo<Df8/U<shh::`~ kx\\'p~Ib\\x7f#\\r'\n",
            "b'nnt'\n",
            "3\n",
            "b's,k#e{lq;} Ht\\x07\\x11q\\'h` goes uux+Bnpu\\'\\nT:si-]\\' \\x0b&hn3:ry+#sjb\\'|Rxpf=tge!z8Ot3Enqs)-\\x7fj}n\\nRi=tYxrbtc/su<:D1nT}dq)!f&f1 \\x0bJxgL+hqft2i!k7\\x16\\n\\x04\\x0cBbs{/c<h;nuni,\\x1appo=tgel<\\x0e\\x11\\'t&Ttt}=t!1&aic=pTo&wo\\x7f/}rn\"E1=\\x16{hsgi ey5zx=\\x17]Aeuuka2i!i \\x16:&I&jix+6<f/t!N f\\x1a\\x7fsw=lnzx2t<^\\x1d\\x0bq=ll no\\x7fi v~=uH~a#lslq;u \\x0c^\\x07B<dug:rig\\' ld=fO~hq\\'a{~!OnT+)Eh\\'\\nG!:v~=n!kb\\x7f\\x1axh#{l`w-<8S tAe=cf:yca:s;`r10F\\x7f#wu|i~;=\\x0c !\\x16ho\\x7f)=ibntydqqbN,09@o5L`h\\'Z\"/\\x0cAh!3D\\x10Of!uuo\\',Ypipx {h`hsEt Dy=wh-:O19iwk=s_+\\x0cBi~/s}<7C!nRsi=}ngo}1 `=yjMe09shpt!\\x0c\\x19^7nUir `:{nb =!fs+Wt<\\tNo/gdhtY22\\x0c;~a|\\'\\x7f&XnctiicUg&wo\\x7f/io})ItDbtbhlis&e; etnxIe;9flyuvc*\\x16D\\x07\\x0bk\\'i}nwe+!mo\\'wc[by#\\x17Tge!{=D8=Io=shtc&e&eb\\'q~Ln&nb:nt\\x7f<:D5:\\x16ut:f% \\x0cJ:d!T=hAe<}fnv\\x7f!d+B:+^&shr :}e7:jnc+T6<sqav \\x0b\\x16\\x07B53I</ $y:_t/ oox1Uec#~{(:l} B5nZutnl  rdt\\nHi:x\\x00dz\\x7f\\'ml:ic/Rn=C&kegnntnnxdfs+J}}z=tgrni3^t^\\x7fs=I)7{h1(uul=xN+ss\\'{a~;q/G1n_h\\'if;nb+3ony=\\x01\\x11&.44 Lu!+c\\x16\\x05 Cel | :od#\\x7f!phd^1\\x16Err/gns0\\x168!Ow1 @tvoz+ v~=cRrkft:nnis-E;;E<\\rI|>eth5l`{ojGbpptt|yd~>_/\"Ebhcz!oo+DS&j\\'jT1ye{elt!}:Rt D}i p;o&r/n;exe\\x1a\\x01O#d{a:o}%It/\\x16zkc))itgtaoy=fA`y9oeg:vc:\\x18nD&O m3\"swnnI`jtdT11.=Snmrs:\\x16 ;\\x0cXxl`8{n1DTsbot\\x1dx&mh:k\\x7fue\\'Bsb\\x16Eho)-ah+ rx=id\\x00c}w` \\x1fXtrnO!;\\x0bjk x+\\x7fl+:hxni,\\x1aes#ze{ letE -@y=\\nF\"\\x7ft1/n\\x7f\\'rg_y*#whnyou-It#Wwbi)>etm1cu=\\x17IU\\x7f<wht5sg&7Y;i^c\\'a3\"u}m+h/\\'\\r\\x01c~i$ql/gdhtX;#Dyoe%tti1>lzdx=\\x1aei#ssb\\x7f7< Ct)_nki)DSid: ,0=DH+q`\\'Gz~-&&Y#+Nicy?ncs~njshejX}e#xa{ \\x0bO$W3<Ihii)#sryna;tm~Ue\\'#Dub\\x7f;s \\x0c5 R<t{pnir*t\\n\\x0bKT[\\x0e+Jxiiyv`&\\x07U+nUcw,37\\x7fl\\'nS&j\\'hU|um: gasxtZ=?I<| {<sh~n\\nRii~Bbebssa};o!\\x0c-!C<tnh)gcytlhvx+A+kpio5\\x10RinF; Gu\\'sg!j<\\x7f<chi`+[\\x7fx#zi}l!o Y$tOndigs:\\x0cG/nrkqp\\x1aBef\\'s|:hy\"@= \\x11<ftmnyi~tpdrmgE+}kb woxo \\x11nD\\x0bEfu`+:kc7:uob+\\\\cybvs/asyt\\\\;7Gus\\')8smtnCifgh\\x1aLjvb:\\x05Wtj\\'BsnWrc:n<oi}=n&=iyYbr~\\'tz:ro Qn/@iig3D[pgnniuh~]y<wue/giy B;tKnro\\x7f=t!1:hrt=y_yc#tua};\\x16\\x00C#nOsr={+ gf5zdy=iY+hqb CSQ&>Y==I(\\'\\n\\x19\\x1dny{>so \\'xU1tbod/lhw1\\x165tkyomh::Hp4i;\\rNe[yrob~/xb<:D1nT}t\\x7fznho\\x7f io:=lRdiwc \\x1fNic<Si=\\x0chh g<sl{\\'t&\\'he\\x1a|umx,/I&qt\\\\!\\'X<ze} sh6ndtps10Xvbuqnwzh\\'Oxn\\x7f;j:a/nab:\\'!itlH\\x7f<unkp:`&(W /Xod \\x19\\x17ui+:h`wwn^1qf=oacd<5X0te<ihf!}nentsfi10Riv\\'wf}shnD58S<nn)DSi+\\'tdm=oO|r9fnq:mc Rn#I&~of<:yj<:\\x0b ?2\\x1axr#py/thq1\\x17t\\rCi1 .m*&x= v~=h_jt-\\'\\x10\\x05Ctii^1nAyfql ih,tf`ni\\'\\x00RS8\\'a{~!OnU/ \\x0crbl\\x7fnsh+DCnru+X~xz:s/gdh _:s\\x0ctrt%tii=nst\\'T1Yjh#twjvw<\\'XtDes\\'~f \\'r+6e!p|o\\x00jr}\\'dzt&rnT+n_gc \\x19iY}~=\\x7f!son\\x1a}eqtc| cy8Y:3\\x0chr @\\x17_*1\\x17on\\'~pT+ebkv/w~<\\nM0n<Eho.<e&{=tbute\\x07+}9aia6!u!\\x16=:Iv\\'br-q<j ~!bioOcy#\\x17Ljt!h<St#Eh~h)0uee!r7\\'Tr_\\'&gh:{r~<*M:-S<su)-utnt\\nRr=hOfy9rp5ymi=Sn/Bb\\'d| =h+,\\x7f!tv~[cy#\\x17Y`u!k5X:5\\x0c~|t}8\\x7f&|+ 6*=PTrrjj\\x7f#:zr7[<+Dy\\'\\x10\\x03\\x17os+ hnhzcT+hqft5S!q/En9Igl,3\\x0cue\\'ncnr y_1xf|d/wss:Qt^\\x7fs=cf9\\x7f&~ ,;bktHrdlcc/{uxn_= Q<sr`= ud:g!\\x17\\x17XAr<4* Ev`\\x7fnB&/X&au}%c<f;ihd\\'X[h0#zo/wiu St6Ce1 n;:qy\\'t~\\'\\x7f~C+al\\'\\x10\\x7fvzenX</B<aog%y&f!sh~=LO+kqntp:ci7\\x1an)C&phz:\\x7f<i!c-\\'`d\\x1a\\x1bPbd kovrtW:0\\x0c~ron=\\x7f&p d;wqpC+rkfn/|nr%Ut#Cony):ijgtynh=oIn29\\r\\nEv`\\x7fnB&/X&au}%c<f;ihd\\'HU|y#rn# Bs9St;B0=ll :ktnh~fo10[jb~:{rzhnJ! ]e\\'w|=ie+#hhix+Bde9~o`:rg7\\x16\\':\\x00&tajnsh+DJmf~+Ny}w=fznjet[!\\'E\\x7f=A)8sre\"e;krd^nt#iux:\\x11L\"M-nBtfn)(uh`- lhnbC\\'<noia\\x7f!d!On\\rCkb | 6<H!wd\\'he\\x161_lpe/oo<^f85U<ihh :`d kb\\'pdIbe#\\r'\n",
            "b'Terminator X: Bring the noise'\n",
            "29\n",
            "b\"I'm back and I'm ringin' the bell \\nA rockin' on the mike while the fly girls yell \\nIn ecstasy in the back of me \\nWell that's my DJ Deshay cuttin' all them Z's \\nHittin' hard and the girlies goin' crazy \\nVanilla's on the mike, man I'm not lazy. \\n\\nI'm lettin' my drug kick in \\nIt controls my mouth and I begin \\nTo just let it flow, let my concepts go \\nMy posse's to the side yellin', Go Vanilla Go! \\n\\nSmooth 'cause that's the way I will be \\nAnd if you don't give a damn, then \\nWhy you starin' at me \\nSo get off 'cause I control the stage \\nThere's no dissin' allowed \\nI'm in my own phase \\nThe girlies sa y they love me and that is ok \\nAnd I can dance better than any kid n' play \\n\\nStage 2 -- Yea the one ya' wanna listen to \\nIt's off my head so let the beat play through \\nSo I can funk it up and make it sound good \\n1-2-3 Yo -- Knock on some wood \\nFor good luck, I like my rhymes atrocious \\nSupercalafragilisticexpialidocious \\nI'm an effect and that you can bet \\nI can take a fly girl and make her wet. \\n\\nI'm like Samson -- Samson to Delilah \\nThere's no denyin', You can try to hang \\nBut you'll keep tryin' to get my style \\nOver and over, practice makes perfect \\nBut not if you're a loafer. \\n\\nYou'll get nowhere, no place, no time, no girls \\nSoon -- Oh my God, homebody, you probably eat \\nSpaghetti with a spoon! Come on and say it! \\n\\nVIP. Vanilla Ice yep, yep, I'm comin' hard like a rhino \\nIntoxicating so you stagger like a wino \\nSo punks stop trying and girl stop cryin' \\nVanilla Ice is sellin' and you people are buyin' \\n'Cause why the freaks are jockin' like Crazy Glue \\nMovin' and groovin' trying to sing along \\nAll through the ghetto groovin' this here song \\nNow you're amazed by the VIP posse. \\n\\nSteppin' so hard like a German Nazi \\nStartled by the bases hittin' ground \\nThere's no trippin' on mine, I'm just gettin' down \\nSparkamatic, I'm hangin' tight like a fanatic \\nYou trapped me once and I thought that \\nYou might have it \\nSo step down and lend me your ear \\n'89 in my time! You, '90 is my year. \\n\\nYou're weakenin' fast, YO! and I can tell it \\nYour body's gettin' hot, so, so I can smell it \\nSo don't be mad and don't be sad \\n'Cause the lyrics belong to ICE, You can call me Dad \\nYou're pitchin' a fit, so step back and endure \\nLet the witch doctor, Ice, do the dance to cure \\nSo come up close and don't be square \\nYou wanna battle me -- Anytime, anywhere \\n\\nYou thought that I was weak, Boy, you're dead wrong \\nSo come on, everybody and sing this song \\n\\nSay -- Play that funky music Say, go white boy, go white boy go \\nplay that funky music Go white boy, go white boy, go \\nLay down and boogie and play that funky music till you die. \\n\\nPlay that funky music Come on, Come on, let me hear \\nPlay that funky music white boy you say it, say it \\nPlay that funky music A little louder now \\nPlay that funky music, white boy Come on, Come on, Come on \\nPlay that funky music \\n\"\n"
          ],
          "name": "stdout"
        }
      ]
    },
    {
      "cell_type": "markdown",
      "metadata": {
        "id": "vjYAYFY4-uDe"
      },
      "source": [
        "**Challenge 7** - AES in ECB mode\n"
      ]
    },
    {
      "cell_type": "code",
      "metadata": {
        "colab": {
          "base_uri": "https://localhost:8080/"
        },
        "id": "FMO2-mH0rPqM",
        "outputId": "6377a351-3ce6-48ea-c809-972f7dceec36"
      },
      "source": [
        "#ECB mode\n",
        "\n",
        "#!pip install pycryptodome\n",
        "from Crypto.Cipher import AES\n",
        "import requests\n",
        "\n",
        "key =b'YELLOW SUBMARINE'\n",
        "text = requests.get('https://cryptopals.com/static/challenge-data/7.txt').text\n",
        "cipher = AES.new(key, AES.MODE_ECB)\n",
        "print(cipher.decrypt(base64.b64decode(text)))\n"
      ],
      "execution_count": null,
      "outputs": [
        {
          "output_type": "stream",
          "text": [
            "b\"I'm back and I'm ringin' the bell \\nA rockin' on the mike while the fly girls yell \\nIn ecstasy in the back of me \\nWell that's my DJ Deshay cuttin' all them Z's \\nHittin' hard and the girlies goin' crazy \\nVanilla's on the mike, man I'm not lazy. \\n\\nI'm lettin' my drug kick in \\nIt controls my mouth and I begin \\nTo just let it flow, let my concepts go \\nMy posse's to the side yellin', Go Vanilla Go! \\n\\nSmooth 'cause that's the way I will be \\nAnd if you don't give a damn, then \\nWhy you starin' at me \\nSo get off 'cause I control the stage \\nThere's no dissin' allowed \\nI'm in my own phase \\nThe girlies sa y they love me and that is ok \\nAnd I can dance better than any kid n' play \\n\\nStage 2 -- Yea the one ya' wanna listen to \\nIt's off my head so let the beat play through \\nSo I can funk it up and make it sound good \\n1-2-3 Yo -- Knock on some wood \\nFor good luck, I like my rhymes atrocious \\nSupercalafragilisticexpialidocious \\nI'm an effect and that you can bet \\nI can take a fly girl and make her wet. \\n\\nI'm like Samson -- Samson to Delilah \\nThere's no denyin', You can try to hang \\nBut you'll keep tryin' to get my style \\nOver and over, practice makes perfect \\nBut not if you're a loafer. \\n\\nYou'll get nowhere, no place, no time, no girls \\nSoon -- Oh my God, homebody, you probably eat \\nSpaghetti with a spoon! Come on and say it! \\n\\nVIP. Vanilla Ice yep, yep, I'm comin' hard like a rhino \\nIntoxicating so you stagger like a wino \\nSo punks stop trying and girl stop cryin' \\nVanilla Ice is sellin' and you people are buyin' \\n'Cause why the freaks are jockin' like Crazy Glue \\nMovin' and groovin' trying to sing along \\nAll through the ghetto groovin' this here song \\nNow you're amazed by the VIP posse. \\n\\nSteppin' so hard like a German Nazi \\nStartled by the bases hittin' ground \\nThere's no trippin' on mine, I'm just gettin' down \\nSparkamatic, I'm hangin' tight like a fanatic \\nYou trapped me once and I thought that \\nYou might have it \\nSo step down and lend me your ear \\n'89 in my time! You, '90 is my year. \\n\\nYou're weakenin' fast, YO! and I can tell it \\nYour body's gettin' hot, so, so I can smell it \\nSo don't be mad and don't be sad \\n'Cause the lyrics belong to ICE, You can call me Dad \\nYou're pitchin' a fit, so step back and endure \\nLet the witch doctor, Ice, do the dance to cure \\nSo come up close and don't be square \\nYou wanna battle me -- Anytime, anywhere \\n\\nYou thought that I was weak, Boy, you're dead wrong \\nSo come on, everybody and sing this song \\n\\nSay -- Play that funky music Say, go white boy, go white boy go \\nplay that funky music Go white boy, go white boy, go \\nLay down and boogie and play that funky music till you die. \\n\\nPlay that funky music Come on, Come on, let me hear \\nPlay that funky music white boy you say it, say it \\nPlay that funky music A little louder now \\nPlay that funky music, white boy Come on, Come on, Come on \\nPlay that funky music \\n\\x04\\x04\\x04\\x04\"\n"
          ],
          "name": "stdout"
        }
      ]
    },
    {
      "cell_type": "markdown",
      "metadata": {
        "id": "Bvq4uUuE-4ks"
      },
      "source": [
        "**Challenge 8** - Detect AES in ECB mode"
      ]
    },
    {
      "cell_type": "code",
      "metadata": {
        "id": "eclbfQ-USiHZ"
      },
      "source": [
        "#challenge 8 Detect AES in ECB mode\n",
        "#ECB mode\n",
        "import binascii\n",
        "import requests\n",
        "\n",
        "blocksize = 16\n",
        "\n",
        "def has_rep_blocks(cipher, index, blocksize):\n",
        "  cipher = binascii.unhexlify(cipher)\n",
        "  #break the ciphertext into 16bytes blocks\n",
        "  chunks = []\n",
        "  for i in range(0,len(cipher), blocksize):\n",
        "    chunks.append(cipher[i:blocksize + i])\n",
        "  #total of block - distinct block + 1\n",
        "  if len(chunks) - len(set(chunks)):\n",
        "    print(f'Line #{index}:\\n{cipher}')\n",
        "    return True\n",
        "  return False\n",
        "\n"
      ],
      "execution_count": null,
      "outputs": []
    },
    {
      "cell_type": "code",
      "metadata": {
        "colab": {
          "base_uri": "https://localhost:8080/"
        },
        "id": "sndIRSrO82o1",
        "outputId": "1e7eaa9b-4461-412f-fd09-c34301ad0b04"
      },
      "source": [
        "#get the ciphertext and devide it into a list of lines, seperate by '\\n'\n",
        "cipher = requests.get('https://cryptopals.com/static/challenge-data/8.txt').text\n",
        "cipher = cipher.strip().split('\\n')\n",
        "\n",
        "#find the line which has replicated blocks\n",
        "for line in cipher:\n",
        "  has_rep_blocks(line, cipher.index(line), blocksize) \n"
      ],
      "execution_count": null,
      "outputs": [
        {
          "output_type": "stream",
          "text": [
            "Line #132:\n",
            "b'\\xd8\\x80a\\x97@\\xa8\\xa1\\x9bx@\\xa8\\xa3\\x1c\\x81\\n=\\x08d\\x9a\\xf7\\r\\xc0oO\\xd5\\xd2\\xd6\\x9ctL\\xd2\\x83\\xe2\\xdd\\x05/kd\\x1d\\xbf\\x9d\\x11\\xb04\\x85B\\xbbW\\x08d\\x9a\\xf7\\r\\xc0oO\\xd5\\xd2\\xd6\\x9ctL\\xd2\\x83\\x94u\\xc9\\xdf\\xdb\\xc1\\xd4e\\x97\\x94\\x9d\\x9c~\\x82\\xbfZ\\x08d\\x9a\\xf7\\r\\xc0oO\\xd5\\xd2\\xd6\\x9ctL\\xd2\\x83\\x97\\xa9>\\xab\\x8dj\\xec\\xd5fH\\x91Tx\\x9ak\\x03\\x08d\\x9a\\xf7\\r\\xc0oO\\xd5\\xd2\\xd6\\x9ctL\\xd2\\x83\\xd4\\x03\\x18\\x0c\\x98\\xc8\\xf6\\xdb\\x1f*?\\x9c@@\\xde\\xb0\\xabQ\\xb2\\x993\\xf2\\xc1#\\xc5\\x83\\x86\\xb0o\\xba\\x18j'\n"
          ],
          "name": "stdout"
        }
      ]
    },
    {
      "cell_type": "markdown",
      "metadata": {
        "id": "Vt8EZL6FjSs9"
      },
      "source": [
        "##SET 02 BLOCK CRYPTO"
      ]
    },
    {
      "cell_type": "markdown",
      "metadata": {
        "id": "hgslkyaq_Sez"
      },
      "source": [
        "**Challenge 9** - Implement PKCS#7 padding"
      ]
    },
    {
      "cell_type": "code",
      "metadata": {
        "colab": {
          "base_uri": "https://localhost:8080/"
        },
        "id": "85_3Ju99XILs",
        "outputId": "dc14f8a8-3197-4ab0-df5e-b66f17097eb0"
      },
      "source": [
        "\n",
        "\n",
        "def padding_pkcs7(buffer, block_size):\n",
        "    padding = 0\n",
        "    if len(buffer) % block_size:\n",
        "        padding = int(len(buffer) / block_size + 1) * block_size - len(buffer)\n",
        "    # Padding size must be less than a byte\n",
        "    assert 0 <= padding <= 255\n",
        "    return buffer + bytes([padding]*padding)\n",
        "\n",
        "buffer = bytearray(\"YELLOW\", 'utf-8')\n",
        "print(padding_pkcs7(buffer, 10))\n"
      ],
      "execution_count": null,
      "outputs": [
        {
          "output_type": "stream",
          "text": [
            "bytearray(b'YELLOW\\x04\\x04\\x04\\x04')\n"
          ],
          "name": "stdout"
        }
      ]
    },
    {
      "cell_type": "markdown",
      "metadata": {
        "id": "SBXKb-Gl_eTe"
      },
      "source": [
        "**Challenge 10** Implement CBC mode"
      ]
    },
    {
      "cell_type": "code",
      "metadata": {
        "colab": {
          "base_uri": "https://localhost:8080/"
        },
        "id": "JrrfiYHC3pC3",
        "outputId": "28dd8b83-ff14-47de-c5d8-af8b59db765a"
      },
      "source": [
        "!pip install pycryptodome"
      ],
      "execution_count": null,
      "outputs": [
        {
          "output_type": "stream",
          "text": [
            "Collecting pycryptodome\n",
            "\u001b[?25l  Downloading https://files.pythonhosted.org/packages/ad/16/9627ab0493894a11c68e46000dbcc82f578c8ff06bc2980dcd016aea9bd3/pycryptodome-3.10.1-cp35-abi3-manylinux2010_x86_64.whl (1.9MB)\n",
            "\u001b[K     |████████████████████████████████| 1.9MB 2.9MB/s \n",
            "\u001b[?25hInstalling collected packages: pycryptodome\n",
            "Successfully installed pycryptodome-3.10.1\n"
          ],
          "name": "stdout"
        }
      ]
    },
    {
      "cell_type": "code",
      "metadata": {
        "id": "kyRu6r1gqtbT",
        "colab": {
          "base_uri": "https://localhost:8080/"
        },
        "outputId": "791ba67f-6e37-44ea-a180-3bec0517d4fe"
      },
      "source": [
        "\n",
        "\n",
        "#run the pip below in case cannot excute\n",
        "\n",
        "#!pip install pycryptodome\n",
        "import codecs\n",
        "import binascii\n",
        "import base64\n",
        "import requests\n",
        "from Crypto.Cipher import AES\n",
        "\n",
        "def xor(first, second):\n",
        "  return bytes(x^y for x,y in zip(first, second))\n",
        "\n",
        "def AES_encrypt(key, content, mode):\n",
        "  cryptor = AES.new( key,AES.MODE_ECB)\n",
        "  last_block =b'\\x00' * 16\n",
        "  encrypted =b''\n",
        "  for i in range(0, len(content), 16):\n",
        "    last_block = cryptor.encrypt(xor(content[i : i + 16], last_block))\n",
        "    encrypted += last_block\n",
        "    if mode == 'ecb':\n",
        "      last_block = b'\\x00' * 16\n",
        "  return encrypted\n",
        "\n",
        "def AES_decrypt(key, content, mode):\n",
        "  cryptor = AES.new(key, AES.MODE_ECB)\n",
        "  last_block = b'\\x00' * 16\n",
        "  decrypted = b''\n",
        "  for i in range(0, len(content), 16):\n",
        "      decrypted += xor(cryptor.decrypt(content[i : i + 16]), last_block)\n",
        "      if mode == 'cbc':\n",
        "          last_block = content[i : i + 16]\n",
        "  return decrypted\n",
        "\n",
        "\n",
        "content = base64.b64decode(requests.get('https://cryptopals.com/static/challenge-data/10.txt').text)\n",
        "de = AES_decrypt(b'YELLOW SUBMARINE', content, 'cbc')\n",
        "\n",
        "print('plaintext here:\\n', de)\n",
        "\n",
        "\n"
      ],
      "execution_count": null,
      "outputs": [
        {
          "output_type": "stream",
          "text": [
            "plaintext here:\n",
            " b\"I'm back and I'm ringin' the bell \\nA rockin' on the mike while the fly girls yell \\nIn ecstasy in the back of me \\nWell that's my DJ Deshay cuttin' all them Z's \\nHittin' hard and the girlies goin' crazy \\nVanilla's on the mike, man I'm not lazy. \\n\\nI'm lettin' my drug kick in \\nIt controls my mouth and I begin \\nTo just let it flow, let my concepts go \\nMy posse's to the side yellin', Go Vanilla Go! \\n\\nSmooth 'cause that's the way I will be \\nAnd if you don't give a damn, then \\nWhy you starin' at me \\nSo get off 'cause I control the stage \\nThere's no dissin' allowed \\nI'm in my own phase \\nThe girlies sa y they love me and that is ok \\nAnd I can dance better than any kid n' play \\n\\nStage 2 -- Yea the one ya' wanna listen to \\nIt's off my head so let the beat play through \\nSo I can funk it up and make it sound good \\n1-2-3 Yo -- Knock on some wood \\nFor good luck, I like my rhymes atrocious \\nSupercalafragilisticexpialidocious \\nI'm an effect and that you can bet \\nI can take a fly girl and make her wet. \\n\\nI'm like Samson -- Samson to Delilah \\nThere's no denyin', You can try to hang \\nBut you'll keep tryin' to get my style \\nOver and over, practice makes perfect \\nBut not if you're a loafer. \\n\\nYou'll get nowhere, no place, no time, no girls \\nSoon -- Oh my God, homebody, you probably eat \\nSpaghetti with a spoon! Come on and say it! \\n\\nVIP. Vanilla Ice yep, yep, I'm comin' hard like a rhino \\nIntoxicating so you stagger like a wino \\nSo punks stop trying and girl stop cryin' \\nVanilla Ice is sellin' and you people are buyin' \\n'Cause why the freaks are jockin' like Crazy Glue \\nMovin' and groovin' trying to sing along \\nAll through the ghetto groovin' this here song \\nNow you're amazed by the VIP posse. \\n\\nSteppin' so hard like a German Nazi \\nStartled by the bases hittin' ground \\nThere's no trippin' on mine, I'm just gettin' down \\nSparkamatic, I'm hangin' tight like a fanatic \\nYou trapped me once and I thought that \\nYou might have it \\nSo step down and lend me your ear \\n'89 in my time! You, '90 is my year. \\n\\nYou're weakenin' fast, YO! and I can tell it \\nYour body's gettin' hot, so, so I can smell it \\nSo don't be mad and don't be sad \\n'Cause the lyrics belong to ICE, You can call me Dad \\nYou're pitchin' a fit, so step back and endure \\nLet the witch doctor, Ice, do the dance to cure \\nSo come up close and don't be square \\nYou wanna battle me -- Anytime, anywhere \\n\\nYou thought that I was weak, Boy, you're dead wrong \\nSo come on, everybody and sing this song \\n\\nSay -- Play that funky music Say, go white boy, go white boy go \\nplay that funky music Go white boy, go white boy, go \\nLay down and boogie and play that funky music till you die. \\n\\nPlay that funky music Come on, Come on, let me hear \\nPlay that funky music white boy you say it, say it \\nPlay that funky music A little louder now \\nPlay that funky music, white boy Come on, Come on, Come on \\nPlay that funky music \\n\\x04\\x04\\x04\\x04\"\n"
          ],
          "name": "stdout"
        }
      ]
    },
    {
      "cell_type": "code",
      "metadata": {
        "colab": {
          "base_uri": "https://localhost:8080/"
        },
        "id": "wfyswC6Q9dHv",
        "outputId": "f97d9f64-fb65-495e-c10a-8abc135d5eb3"
      },
      "source": [
        "#down here just to test if my code works\n",
        "\n",
        "en = AES_encrypt(b'YELLOW SUBMARINE', de, 'cbc')\n",
        "#en = binascii.hexlify(en)\n",
        "#en = codecs.encode(codecs.decode(en, 'hex'), 'base64').decode()\n",
        "de = AES_decrypt(b'YELLOW SUBMARINE', en, 'cbc')\n",
        "\n",
        "print('\\nrecover the plaintext, again:\\n', de)"
      ],
      "execution_count": null,
      "outputs": [
        {
          "output_type": "stream",
          "text": [
            "\n",
            "recover the plaintext, again:\n",
            " b\"I'm back and I'm ringin' the bell \\nA rockin' on the mike while the fly girls yell \\nIn ecstasy in the back of me \\nWell that's my DJ Deshay cuttin' all them Z's \\nHittin' hard and the girlies goin' crazy \\nVanilla's on the mike, man I'm not lazy. \\n\\nI'm lettin' my drug kick in \\nIt controls my mouth and I begin \\nTo just let it flow, let my concepts go \\nMy posse's to the side yellin', Go Vanilla Go! \\n\\nSmooth 'cause that's the way I will be \\nAnd if you don't give a damn, then \\nWhy you starin' at me \\nSo get off 'cause I control the stage \\nThere's no dissin' allowed \\nI'm in my own phase \\nThe girlies sa y they love me and that is ok \\nAnd I can dance better than any kid n' play \\n\\nStage 2 -- Yea the one ya' wanna listen to \\nIt's off my head so let the beat play through \\nSo I can funk it up and make it sound good \\n1-2-3 Yo -- Knock on some wood \\nFor good luck, I like my rhymes atrocious \\nSupercalafragilisticexpialidocious \\nI'm an effect and that you can bet \\nI can take a fly girl and make her wet. \\n\\nI'm like Samson -- Samson to Delilah \\nThere's no denyin', You can try to hang \\nBut you'll keep tryin' to get my style \\nOver and over, practice makes perfect \\nBut not if you're a loafer. \\n\\nYou'll get nowhere, no place, no time, no girls \\nSoon -- Oh my God, homebody, you probably eat \\nSpaghetti with a spoon! Come on and say it! \\n\\nVIP. Vanilla Ice yep, yep, I'm comin' hard like a rhino \\nIntoxicating so you stagger like a wino \\nSo punks stop trying and girl stop cryin' \\nVanilla Ice is sellin' and you people are buyin' \\n'Cause why the freaks are jockin' like Crazy Glue \\nMovin' and groovin' trying to sing along \\nAll through the ghetto groovin' this here song \\nNow you're amazed by the VIP posse. \\n\\nSteppin' so hard like a German Nazi \\nStartled by the bases hittin' ground \\nThere's no trippin' on mine, I'm just gettin' down \\nSparkamatic, I'm hangin' tight like a fanatic \\nYou trapped me once and I thought that \\nYou might have it \\nSo step down and lend me your ear \\n'89 in my time! You, '90 is my year. \\n\\nYou're weakenin' fast, YO! and I can tell it \\nYour body's gettin' hot, so, so I can smell it \\nSo don't be mad and don't be sad \\n'Cause the lyrics belong to ICE, You can call me Dad \\nYou're pitchin' a fit, so step back and endure \\nLet the witch doctor, Ice, do the dance to cure \\nSo come up close and don't be square \\nYou wanna battle me -- Anytime, anywhere \\n\\nYou thought that I was weak, Boy, you're dead wrong \\nSo come on, everybody and sing this song \\n\\nSay -- Play that funky music Say, go white boy, go white boy go \\nplay that funky music Go white boy, go white boy, go \\nLay down and boogie and play that funky music till you die. \\n\\nPlay that funky music Come on, Come on, let me hear \\nPlay that funky music white boy you say it, say it \\nPlay that funky music A little louder now \\nPlay that funky music, white boy Come on, Come on, Come on \\nPlay that funky music \\n\\x04\\x04\\x04\\x04\"\n"
          ],
          "name": "stdout"
        }
      ]
    },
    {
      "cell_type": "markdown",
      "metadata": {
        "id": "eeb0oKNxDIMS"
      },
      "source": [
        "**challenge 11** - An ECB/CBC detection oracle"
      ]
    },
    {
      "cell_type": "code",
      "metadata": {
        "id": "Hcj8RdFj-IbL"
      },
      "source": [
        "\n",
        "\n",
        "#run the pip below in case cannot excute\n",
        "\n",
        "#!pip install pycryptodome\n",
        "import codecs\n",
        "import binascii\n",
        "import base64\n",
        "import os\n",
        "from Crypto.Cipher import AES\n",
        "import random\n",
        "#====================================\n",
        "# reused functions here\n",
        "def padding_pkcs7(buffer, block_size):\n",
        "    padding = 0\n",
        "    if len(buffer) % block_size:\n",
        "        padding = int(len(buffer) / block_size + 1) * block_size - len(buffer)\n",
        "    # Padding size must be less than a byte\n",
        "    assert 0 <= padding <= 255\n",
        "    return buffer + bytes([padding]*padding)\n",
        "\n",
        "def xor(first, second):\n",
        "  return bytes(x^y for x,y in zip(first, second))\n",
        "\n",
        "def AES_encrypt(key, content, mode):\n",
        "  cryptor = AES.new( key, AES.MODE_ECB)\n",
        "  if mode == 'ecb':\n",
        "    last_block = b'\\x00' * 16\n",
        "  else:\n",
        "    last_block = generatekey(16)\n",
        "  encrypted =b''\n",
        "  for i in range(0, len(content), 16):\n",
        "    encrypted += cryptor.encrypt(xor(content[i : i + 16], last_block))\n",
        "    if mode == 'cbc':\n",
        "        last_block = content[i : i + 16]\n",
        "  return encrypted\n",
        "\n",
        "def AES_decrypt(key, content, mode):\n",
        "  cryptor = AES.new(key, AES.MODE_ECB)\n",
        "  if mode == 'ecb':\n",
        "    last_block = b'\\x00' * 16\n",
        "  else:\n",
        "    last_block = generatekey(16)\n",
        "  decrypted = b''\n",
        "  for i in range(0, len(content), 16):\n",
        "      decrypted += xor(cryptor.decrypt(content[i : i + 16]), last_block)\n",
        "      if mode == 'cbc':\n",
        "          last_block = content[i : i + 16]\n",
        "  return decrypted\n",
        "\n",
        "#this func has been modified\n",
        "\n",
        "def has_rep_blocks(cipher, _, blocksize):\n",
        "  #cipher = binascii.unhexlify(cipher)\n",
        "  #break the ciphertext into 16bytes blocks\n",
        "  chunks = [cipher[i:blocksize + i] for i in range(0,len(cipher), blocksize)]\n",
        "  #total of block - distinct block + 1\n",
        "  if len(chunks) - len(set(chunks)) != 0:\n",
        "    #print(sorted(chunks))\n",
        "    return True\n",
        "  return False"
      ],
      "execution_count": null,
      "outputs": []
    },
    {
      "cell_type": "code",
      "metadata": {
        "id": "YK3WZ4zh-SKA"
      },
      "source": [
        "#=================================\n",
        "\n",
        "\n",
        "\n",
        "\n",
        "def generatekey(length):\n",
        "  return os.urandom(length)\n",
        "\n",
        "def encryption_oracle(content):\n",
        "  if random.randint(0,1) == 1:\n",
        "    mode = 'cbc'\n",
        "  else: \n",
        "    mode ='ecb'\n",
        "  content = generatekey(random.randint(5,10)) + content \\\n",
        "  + generatekey(random.randint(5,10))\n",
        "  content = padding_pkcs7(content, 16)\n",
        "  return AES_encrypt(generatekey(16), content, mode), mode\n",
        "  \n"
      ],
      "execution_count": null,
      "outputs": []
    },
    {
      "cell_type": "code",
      "metadata": {
        "id": "SXSeRpPel3RC",
        "colab": {
          "base_uri": "https://localhost:8080/"
        },
        "outputId": "087400ca-c1b4-4128-d3d6-d8035115ab47"
      },
      "source": [
        "\n",
        "\n",
        "for _ in range(40):\n",
        "  message =b'a'*50\n",
        "  message, mode = encryption_oracle(message)\n",
        "  if has_rep_blocks(message, _, 16):\n",
        "    if mode == 'ecb':\n",
        "      print('detected: ECB, replicate blocks found')\n",
        "    else:\n",
        "      print('failed to detect')\n",
        "  else:\n",
        "    if mode == 'cbc':\n",
        "      print('detected: CBC, no duplicate blocks found')\n",
        "    else:\n",
        "      print('failed to detect')"
      ],
      "execution_count": null,
      "outputs": [
        {
          "output_type": "stream",
          "text": [
            "detected: ECB, replicate blocks found\n",
            "detected: ECB, replicate blocks found\n",
            "detected: ECB, replicate blocks found\n",
            "detected: ECB, replicate blocks found\n",
            "detected: CBC, no duplicate blocks found\n",
            "detected: ECB, replicate blocks found\n",
            "detected: CBC, no duplicate blocks found\n",
            "detected: CBC, no duplicate blocks found\n",
            "detected: CBC, no duplicate blocks found\n",
            "detected: ECB, replicate blocks found\n",
            "detected: CBC, no duplicate blocks found\n",
            "detected: ECB, replicate blocks found\n",
            "detected: CBC, no duplicate blocks found\n",
            "detected: ECB, replicate blocks found\n",
            "detected: ECB, replicate blocks found\n",
            "detected: ECB, replicate blocks found\n",
            "detected: ECB, replicate blocks found\n",
            "detected: ECB, replicate blocks found\n",
            "detected: ECB, replicate blocks found\n",
            "detected: CBC, no duplicate blocks found\n",
            "detected: CBC, no duplicate blocks found\n",
            "detected: ECB, replicate blocks found\n",
            "detected: CBC, no duplicate blocks found\n",
            "detected: CBC, no duplicate blocks found\n",
            "detected: CBC, no duplicate blocks found\n",
            "detected: ECB, replicate blocks found\n",
            "detected: ECB, replicate blocks found\n",
            "detected: CBC, no duplicate blocks found\n",
            "detected: CBC, no duplicate blocks found\n",
            "detected: ECB, replicate blocks found\n",
            "detected: CBC, no duplicate blocks found\n",
            "detected: ECB, replicate blocks found\n",
            "detected: ECB, replicate blocks found\n",
            "detected: CBC, no duplicate blocks found\n",
            "detected: CBC, no duplicate blocks found\n",
            "detected: ECB, replicate blocks found\n",
            "detected: CBC, no duplicate blocks found\n",
            "detected: ECB, replicate blocks found\n",
            "detected: CBC, no duplicate blocks found\n",
            "detected: ECB, replicate blocks found\n"
          ],
          "name": "stdout"
        }
      ]
    },
    {
      "cell_type": "markdown",
      "metadata": {
        "id": "ApeUUHKiDepa"
      },
      "source": [
        "**Challenge 12** Byte at a time ECB decryption (Simple)"
      ]
    },
    {
      "cell_type": "code",
      "metadata": {
        "id": "PWAgouP5ANMs"
      },
      "source": [
        "\n",
        "#!pip install pycryptodome\n",
        "import codecs\n",
        "import binascii\n",
        "import base64\n",
        "import os\n",
        "from Crypto.Cipher import AES\n",
        "import random\n",
        "#====================================\n",
        "# reused functions section here\n",
        "def padding_pkcs7(buffer, block_size):\n",
        "    padding = 0\n",
        "    if len(buffer) % block_size:\n",
        "        padding = int(len(buffer) / block_size + 1) * block_size - len(buffer)\n",
        "    # Padding size must be less than a byte\n",
        "    assert 0 <= padding <= 255\n",
        "    return buffer + bytes([padding]*padding)\n",
        "\n",
        "def xor(first, second):\n",
        "  return bytes(x^y for x,y in zip(first, second))\n",
        "\n",
        "def AES_encrypt(key, content, mode):\n",
        "  cryptor = AES.new( key,AES.MODE_ECB)\n",
        "  last_block =b'\\x00' * 16\n",
        "  encrypted =b''\n",
        "  for i in range(0, len(content), 16):\n",
        "    last_block = cryptor.encrypt(xor(content[i : i + 16], last_block))\n",
        "    encrypted += last_block\n",
        "    if mode == 'ecb':\n",
        "      last_block = b'\\x00' * 16\n",
        "  return encrypted\n",
        "\n",
        "def AES_decrypt(key, content, mode):\n",
        "  cryptor = AES.new(key, AES.MODE_ECB)\n",
        "  last_block = b'\\x00' * 16\n",
        "  decrypted = b''\n",
        "  for i in range(0, len(content), 16):\n",
        "      decrypted += xor(cryptor.decrypt(content[i : i + 16]), last_block)\n",
        "      if mode == 'cbc':\n",
        "          last_block = content[i : i + 16]\n",
        "  return decrypted\n",
        "\n",
        "def generatekey(length):\n",
        "  return os.urandom(length)\n",
        "\n",
        "def encryption_oracle(content : bytes, key):\n",
        "  content = content + unknown_string\n",
        "  content = padding_pkcs7(content, 16)\n",
        "  return AES_encrypt(key, content, 'ecb')\n",
        "\n",
        "\n",
        "\n"
      ],
      "execution_count": null,
      "outputs": []
    },
    {
      "cell_type": "code",
      "metadata": {
        "id": "o0f52FYeAfPo"
      },
      "source": [
        "\n",
        "def block_size_detector(key):\n",
        "  for i in range(1, 40):\n",
        "    sample = encryption_oracle(b'a'*i, key)\n",
        "    if sample[:(i//2)] == sample[(i//2):i]:\n",
        "      return i//2\n",
        "\n",
        "def payload_size(message,blocksize):\n",
        "  return len(padding_pkcs7(message, blocksize))//blocksize\n",
        "\n",
        "def mode_detect(unknown_string, key, blocksize):\n",
        "  sample = encryption_oracle(b'a'*(blocksize*2) + unknown_string , key)\n",
        "  if sample[:blocksize] == sample[blocksize:blocksize*2]:\n",
        "    return 'ecb'\n",
        "  return 'failed to detect'\n",
        "\n",
        "  \n"
      ],
      "execution_count": null,
      "outputs": []
    },
    {
      "cell_type": "code",
      "metadata": {
        "colab": {
          "base_uri": "https://localhost:8080/"
        },
        "id": "aRJ7ahl-A1Fl",
        "outputId": "3bd6c25c-4f43-4c16-a9f2-1de3c2b03c85"
      },
      "source": [
        "\n",
        "global_key = generatekey(16)\n",
        "unknown_string = base64.b64decode('Um9sbGluJyBpbiBteSA1LjAKV2l0aCBteSByYWctdG9wIGRvd24gc28gbXkg'\n",
        "'aGFpciBjYW4gYmxvdwpUaGUgZ2lybGllcyBvbiBzdGFuZGJ5IHdhdmluZyBq'\n",
        "'dXN0IHRvIHNheSBoaQpEaWQgeW91IHN0b3A/IE5vLCBJIGp1c3QgZHJvdmUg'\n",
        "'YnkK'\n",
        ")\n",
        "\n",
        "\n",
        "\n",
        "block_size = block_size_detector(global_key)\n",
        "print('block size:', block_size)\n",
        "payload = payload_size(unknown_string, block_size)\n",
        "print('payload:',payload)\n",
        "mode = mode_detect(unknown_string, global_key, block_size)\n",
        "print('mode:', mode)\n",
        "\n",
        "\n"
      ],
      "execution_count": null,
      "outputs": [
        {
          "output_type": "stream",
          "text": [
            "block size: 16\n",
            "payload: 9\n",
            "mode: ecb\n"
          ],
          "name": "stdout"
        }
      ]
    },
    {
      "cell_type": "code",
      "metadata": {
        "id": "3TN319JaAmFZ"
      },
      "source": [
        "\n",
        "\n",
        "def recover_one_more_byte_ecb(key , oracle, known_plaintext, block_size):\n",
        "    \n",
        "    # p+k+1 mod Bs = 0 hence p = (-k-1) mod Bs\n",
        "    k = len(known_plaintext)\n",
        "    padding_length = (-k-1) % block_size\n",
        "    padding = b\"A\" * padding_length\n",
        "\n",
        "\n",
        "\n",
        "    target_block_number = len(known_plaintext) // block_size\n",
        "    target_slice = slice(target_block_number*block_size,\n",
        "                         (target_block_number+1)*block_size)\n",
        "    target_block = encryption_oracle(padding, key)[target_slice]\n",
        "\n",
        "\n",
        "\n",
        "    # trying every possibility for the last byte\n",
        "    for i in range(256):\n",
        "        message = padding + known_plaintext + bytes([i])\n",
        "        block = encryption_oracle(message, key)[target_slice]\n",
        "        if block == target_block:\n",
        "            return bytes([i])\n",
        "\n",
        "\n",
        "\n",
        "def recover(key ,oracle, block_size):\n",
        "    known_plaintext = b\"\"\n",
        "\n",
        "    payload_length = payload_size(oracle,16)*(block_size)\n",
        "\n",
        "    for _ in range(payload_length):\n",
        "        new_known_byte = recover_one_more_byte_ecb\\\n",
        "        (key, oracle, known_plaintext, block_size)\n",
        "        known_plaintext = known_plaintext + new_known_byte\n",
        "        \n",
        "    return known_plaintext\n",
        "  \n",
        "  "
      ],
      "execution_count": null,
      "outputs": []
    },
    {
      "cell_type": "code",
      "metadata": {
        "colab": {
          "base_uri": "https://localhost:8080/"
        },
        "id": "I0WvZl_R_6Km",
        "outputId": "b2eacce9-20b7-48ce-a21a-3803c8747ac7"
      },
      "source": [
        "#================================\n",
        "\n",
        "\n",
        "actual_unknown_string_len = len(unknown_string)\n",
        "unknown_string = padding_pkcs7(unknown_string, 16)\n",
        "\n",
        "\n",
        "encrypted = AES_encrypt(global_key, unknown_string, mode)\n",
        "secret = recover(global_key , encrypted, block_size)[:actual_unknown_string_len]\n",
        "\n",
        "\n",
        "print(secret.decode())\n"
      ],
      "execution_count": null,
      "outputs": [
        {
          "output_type": "stream",
          "text": [
            "Rollin' in my 5.0\n",
            "With my rag-top down so my hair can blow\n",
            "The girlies on standby waving just to say hi\n",
            "Did you stop? No, I just drove by\n",
            "\n"
          ],
          "name": "stdout"
        }
      ]
    },
    {
      "cell_type": "markdown",
      "metadata": {
        "id": "g4GxMSorDu84"
      },
      "source": [
        "**Challenge 13** ECB cut and paste"
      ]
    },
    {
      "cell_type": "code",
      "metadata": {
        "id": "_XQMc08fBHlw"
      },
      "source": [
        "\n",
        "\n",
        "#!pip install pycryptodome\n",
        "import binascii\n",
        "import base64\n",
        "import codecs\n",
        "import os\n",
        "from Crypto.Cipher import AES\n",
        "import random\n",
        "#================================\n",
        "#reuse functions section\n",
        "\n",
        "def xor(first, second):\n",
        "  return bytes(x^y for x,y in zip(first, second))\n",
        "\n",
        "def AES_encrypt(key, content, mode):\n",
        "  cryptor = AES.new( key,AES.MODE_ECB)\n",
        "  last_block =b'\\x00' * 16\n",
        "  encrypted =b''\n",
        "  for i in range(0, len(content), 16):\n",
        "    last_block = cryptor.encrypt(xor(content[i : i + 16], last_block))\n",
        "    encrypted += last_block\n",
        "    if mode == 'ecb':\n",
        "      last_block = b'\\x00' * 16\n",
        "  return encrypted\n",
        "\n",
        "def AES_decrypt(key, content, mode):\n",
        "  cryptor = AES.new(key, AES.MODE_ECB)\n",
        "  last_block = b'\\x00' * 16\n",
        "  decrypted = b''\n",
        "  for i in range(0, len(content), 16):\n",
        "      decrypted += xor(cryptor.decrypt(content[i : i + 16]), last_block)\n",
        "      if mode == 'cbc':\n",
        "          last_block = content[i : i + 16]\n",
        "  return decrypted\n",
        "\n",
        "def generatekey(length):\n",
        "  return os.urandom(length)\n",
        "\n",
        "def padding_pkcs7(buffer, block_size):\n",
        "    padding = 0\n",
        "    if len(buffer) % block_size:\n",
        "        padding = int(len(buffer) / block_size + 1) * block_size - len(buffer)\n",
        "    # Padding size must be less than a byte\n",
        "    assert 0 <= padding <= 255\n",
        "    return buffer + bytes([padding]*padding)\n",
        "\n",
        "def unpadding_pkcs7(s):\n",
        "    if s[len(s)-s[-1]:] == s[-1:] * s[-1]: \n",
        "      return s[:-s[-1]]"
      ],
      "execution_count": null,
      "outputs": []
    },
    {
      "cell_type": "code",
      "metadata": {
        "colab": {
          "base_uri": "https://localhost:8080/"
        },
        "id": "cgFV5HV7aQe9",
        "outputId": "13e20d39-6222-4188-a411-ade3d01451be"
      },
      "source": [
        "\n",
        "#================================\n",
        "\n",
        "def str_to_dict(string):\n",
        "  dict ={}\n",
        "  for item in string.split(\"&\"):\n",
        "    item = item.split(\"=\")\n",
        "    dict[item[0]] = item[1]\n",
        "  return dict\n",
        "\n",
        "def dict_to_str(dict):\n",
        "  return'&'.join(map('='.join, dict.items()))\n",
        "\n",
        "def profile_for(email):\n",
        "  return dict_to_str({\n",
        "      'email': email.strip(\"&=\"),\n",
        "      'uid': '10',\n",
        "      'role': 'user'\n",
        "  })\n",
        "\n",
        "\n",
        "\n",
        "global_key = generatekey(16)\n",
        "email = 'wutevahereisallgood@email.com'\n",
        "\n",
        "encoded = bytearray(profile_for(email).encode())\n",
        "print('given profile:\\n',encoded)\n",
        "\n",
        "encrypted = AES_encrypt(global_key, padding_pkcs7(encoded, 16), 'ecb')\n",
        "encrypted_ = encrypted[:16*2]\n",
        "\n",
        "seed = AES_encrypt(global_key, padding_pkcs7(b'admin', 16), 'ecb')\n",
        "encrypted_ = encrypted_ + seed\n",
        "print('poisoned profile:\\n',bytearray(unpadding_pkcs7(AES_decrypt(global_key, encrypted_, 'ecb'))))"
      ],
      "execution_count": null,
      "outputs": [
        {
          "output_type": "stream",
          "text": [
            "given profile:\n",
            " bytearray(b'email=bad@email.com&uid=10&role=user')\n",
            "poisoned profile:\n",
            " bytearray(b'email=bad@email.com&uid=10&role=admin')\n"
          ],
          "name": "stdout"
        }
      ]
    },
    {
      "cell_type": "markdown",
      "metadata": {
        "id": "gdnHgf_zD4Qw"
      },
      "source": [
        "**Challenge 15** - PKCS#7 padding validation"
      ]
    },
    {
      "cell_type": "code",
      "metadata": {
        "colab": {
          "base_uri": "https://localhost:8080/"
        },
        "id": "xog3o5AGBNvU",
        "outputId": "76bd93a0-e40b-46c9-d1d9-e30b7a08fbed"
      },
      "source": [
        "\n",
        "\n",
        "def unpadding_pkcs7_validation(s: bytes) -> bytes:\n",
        "    if s[len(s)-s[-1]:] != s[-1:] * s[-1]: \n",
        "      raise Exception(\"Bad padding occurred\")\n",
        "    return s[:-s[-1]]\n",
        "\n",
        "s = b\"ICE ICE BABY\\x04\\x04\\x04\\x04\"\n",
        "print(unpadding_pkcs7_validation(s))"
      ],
      "execution_count": null,
      "outputs": [
        {
          "output_type": "stream",
          "text": [
            "b'ICE ICE BABY'\n"
          ],
          "name": "stdout"
        }
      ]
    },
    {
      "cell_type": "code",
      "metadata": {
        "colab": {
          "base_uri": "https://localhost:8080/",
          "height": 313
        },
        "id": "MalQ4sAP2gkx",
        "outputId": "9f326bdd-07d7-45e4-e9b7-de837c419806"
      },
      "source": [
        "\n",
        "\n",
        "#throw exception:\n",
        "\n",
        "s = b\"ICE ICE BABY\\x04\\x04\\x04\\x05\"\n",
        "print(unpadding_pkcs7_validation(s))"
      ],
      "execution_count": null,
      "outputs": [
        {
          "output_type": "error",
          "ename": "Exception",
          "evalue": "ignored",
          "traceback": [
            "\u001b[0;31m---------------------------------------------------------------------------\u001b[0m",
            "\u001b[0;31mException\u001b[0m                                 Traceback (most recent call last)",
            "\u001b[0;32m<ipython-input-27-5153bd5c8faa>\u001b[0m in \u001b[0;36m<module>\u001b[0;34m()\u001b[0m\n\u001b[1;32m      4\u001b[0m \u001b[0;34m\u001b[0m\u001b[0m\n\u001b[1;32m      5\u001b[0m \u001b[0ms\u001b[0m \u001b[0;34m=\u001b[0m \u001b[0;34mb\"ICE ICE BABY\\x04\\x04\\x04\\x05\"\u001b[0m\u001b[0;34m\u001b[0m\u001b[0;34m\u001b[0m\u001b[0m\n\u001b[0;32m----> 6\u001b[0;31m \u001b[0mprint\u001b[0m\u001b[0;34m(\u001b[0m\u001b[0munpadding_pkcs7_validation\u001b[0m\u001b[0;34m(\u001b[0m\u001b[0ms\u001b[0m\u001b[0;34m)\u001b[0m\u001b[0;34m)\u001b[0m\u001b[0;34m\u001b[0m\u001b[0;34m\u001b[0m\u001b[0m\n\u001b[0m",
            "\u001b[0;32m<ipython-input-26-1f42966392cb>\u001b[0m in \u001b[0;36munpadding_pkcs7_validation\u001b[0;34m(s)\u001b[0m\n\u001b[1;32m      3\u001b[0m \u001b[0;32mdef\u001b[0m \u001b[0munpadding_pkcs7_validation\u001b[0m\u001b[0;34m(\u001b[0m\u001b[0ms\u001b[0m\u001b[0;34m:\u001b[0m \u001b[0mbytes\u001b[0m\u001b[0;34m)\u001b[0m \u001b[0;34m->\u001b[0m \u001b[0mbytes\u001b[0m\u001b[0;34m:\u001b[0m\u001b[0;34m\u001b[0m\u001b[0;34m\u001b[0m\u001b[0m\n\u001b[1;32m      4\u001b[0m     \u001b[0;32mif\u001b[0m \u001b[0ms\u001b[0m\u001b[0;34m[\u001b[0m\u001b[0mlen\u001b[0m\u001b[0;34m(\u001b[0m\u001b[0ms\u001b[0m\u001b[0;34m)\u001b[0m\u001b[0;34m-\u001b[0m\u001b[0ms\u001b[0m\u001b[0;34m[\u001b[0m\u001b[0;34m-\u001b[0m\u001b[0;36m1\u001b[0m\u001b[0;34m]\u001b[0m\u001b[0;34m:\u001b[0m\u001b[0;34m]\u001b[0m \u001b[0;34m!=\u001b[0m \u001b[0ms\u001b[0m\u001b[0;34m[\u001b[0m\u001b[0;34m-\u001b[0m\u001b[0;36m1\u001b[0m\u001b[0;34m:\u001b[0m\u001b[0;34m]\u001b[0m \u001b[0;34m*\u001b[0m \u001b[0ms\u001b[0m\u001b[0;34m[\u001b[0m\u001b[0;34m-\u001b[0m\u001b[0;36m1\u001b[0m\u001b[0;34m]\u001b[0m\u001b[0;34m:\u001b[0m\u001b[0;34m\u001b[0m\u001b[0;34m\u001b[0m\u001b[0m\n\u001b[0;32m----> 5\u001b[0;31m       \u001b[0;32mraise\u001b[0m \u001b[0mException\u001b[0m\u001b[0;34m(\u001b[0m\u001b[0;34m\"Bad padding occurred\"\u001b[0m\u001b[0;34m)\u001b[0m\u001b[0;34m\u001b[0m\u001b[0;34m\u001b[0m\u001b[0m\n\u001b[0m\u001b[1;32m      6\u001b[0m     \u001b[0;32mreturn\u001b[0m \u001b[0ms\u001b[0m\u001b[0;34m[\u001b[0m\u001b[0;34m:\u001b[0m\u001b[0;34m-\u001b[0m\u001b[0ms\u001b[0m\u001b[0;34m[\u001b[0m\u001b[0;34m-\u001b[0m\u001b[0;36m1\u001b[0m\u001b[0;34m]\u001b[0m\u001b[0;34m]\u001b[0m\u001b[0;34m\u001b[0m\u001b[0;34m\u001b[0m\u001b[0m\n\u001b[1;32m      7\u001b[0m \u001b[0;34m\u001b[0m\u001b[0m\n",
            "\u001b[0;31mException\u001b[0m: Bad padding occurred"
          ]
        }
      ]
    },
    {
      "cell_type": "markdown",
      "metadata": {
        "id": "INWlUWCLEBXA"
      },
      "source": [
        "**Challenge 16** - CBC bitflipping attacks"
      ]
    },
    {
      "cell_type": "code",
      "metadata": {
        "id": "eXwhJ1eqBqJO"
      },
      "source": [
        "\n",
        "\n",
        "#!pip install pycryptodome\n",
        "import binascii\n",
        "import base64\n",
        "import codecs\n",
        "import os\n",
        "from Crypto.Cipher import AES\n",
        "import random\n",
        "\n",
        "\n",
        "#========================================\n",
        "def xor(first, second):\n",
        "  return bytes(x^y for x,y in zip(first, second))\n",
        "\n",
        "def AES_encrypt(key, content, mode):\n",
        "  cryptor = AES.new( key,AES.MODE_ECB)\n",
        "  last_block =b'\\x00' * 16\n",
        "  encrypted =b''\n",
        "  for i in range(0, len(content), 16):\n",
        "    last_block = cryptor.encrypt(xor(content[i : i + 16], last_block))\n",
        "    encrypted += last_block\n",
        "    if mode == 'ecb':\n",
        "      last_block = b'\\x00' * 16\n",
        "  return encrypted\n",
        "\n",
        "\n",
        "def AES_decrypt(key, content, mode):\n",
        "  cryptor = AES.new(key, AES.MODE_ECB)\n",
        "  last_block = b'\\x00' * 16\n",
        "  decrypted = b''\n",
        "  for i in range(0, len(content), 16):\n",
        "      decrypted += xor(cryptor.decrypt(content[i : i + 16]), last_block)\n",
        "      if mode == 'cbc':\n",
        "          last_block = content[i : i + 16]\n",
        "  return decrypted\n",
        "\n",
        "\n",
        "def padding_pkcs7(buffer, block_size):\n",
        "  padding = 0\n",
        "  if len(buffer) % block_size:\n",
        "      padding = int(len(buffer) / block_size + 1) * block_size - len(buffer)\n",
        "    # Padding size must be less than a byte\n",
        "  assert 0 <= padding <= 255\n",
        "  return buffer + bytes([padding]*padding)\n",
        "\n",
        "\n",
        "def unpadding_pkcs7(s):\n",
        "    if s[len(s)-s[-1]:] == s[-1:] * s[-1]: \n",
        "      return s[:-s[-1]]\n",
        "\n",
        "\n",
        "def generate_key():\n",
        "  return os.urandom(16)\n",
        "#================================="
      ],
      "execution_count": null,
      "outputs": []
    },
    {
      "cell_type": "code",
      "metadata": {
        "id": "HgNl_ADjBvKl"
      },
      "source": [
        "\n",
        "\n",
        "def encrypt_(s) -> bytes:\n",
        "    s = prefix + s.replace(b'=', b'').replace(b';', b'') + suffix\n",
        "    s = padding_pkcs7(s, 16)\n",
        "    return AES_encrypt(random_key, s, 'cbc')\n",
        "\n",
        "\n",
        "def is_admin(s: bytes) -> bool:\n",
        "    return b'admin=true' in unpadding_pkcs7(AES_decrypt(random_key, s, 'cbc'))\n",
        "\n",
        "\n",
        "\n",
        "def bitflip(s):\n",
        "  cipher = encrypt_(s)\n",
        "  bitflip = xor(cipher[16:32],\n",
        "    xor(s, b\"uwuu;admin=true;\"))\n",
        "  return cipher[:16] + bitflip + cipher[32:]\n",
        "\n",
        "#~~~~~~~~~~~~~~~~~~~~~~~"
      ],
      "execution_count": null,
      "outputs": []
    },
    {
      "cell_type": "code",
      "metadata": {
        "colab": {
          "base_uri": "https://localhost:8080/"
        },
        "id": "mqG8A6iNB0xs",
        "outputId": "12f1899e-46a4-42ca-fbdb-a51de69ba180"
      },
      "source": [
        "\n",
        "\n",
        "\n",
        "\n",
        "random_key = generate_key()\n",
        "\n",
        "prefix = b\"comment1=cooking%20MCs;userdata=\"\n",
        "suffix = b\";comment2=%20like%20a%20pound%20of%20bacon\"\n",
        "\n",
        "\n",
        "s = b'uwuu;admin=true;'\n",
        "\n",
        "before = encrypt_(s)\n",
        "print(unpadding_pkcs7(AES_decrypt(random_key, before,'cbc')))\n",
        "print(is_admin(before))\n"
      ],
      "execution_count": null,
      "outputs": [
        {
          "output_type": "stream",
          "text": [
            "b'comment1=cooking%20MCs;userdata=uwuuadmintrue;comment2=%20like%20a%20pound%20of%20bacon'\n",
            "False\n"
          ],
          "name": "stdout"
        }
      ]
    },
    {
      "cell_type": "code",
      "metadata": {
        "colab": {
          "base_uri": "https://localhost:8080/"
        },
        "id": "e68geDe7B1oT",
        "outputId": "5162e791-fdc1-4dd8-90c5-304f1c58bcc4"
      },
      "source": [
        "\n",
        "\n",
        "\n",
        "s = b'uwuuAadminAtrueA'\n",
        "after = bitflip(s)\n",
        "print(unpadding_pkcs7(AES_decrypt(random_key, after,'cbc')))\n",
        "print(is_admin(after))\n",
        "\n"
      ],
      "execution_count": null,
      "outputs": [
        {
          "output_type": "stream",
          "text": [
            "b'comment1=cooking\\x1b\\x17\\xb4\\xa1\\x1fgJ\\xc8\\xf5,\\x0b\\xca\\xa8-U\\xf7uwuu;admin=true;;comment2=%20like%20a%20pound%20of%20bacon'\n",
            "True\n"
          ],
          "name": "stdout"
        }
      ]
    },
    {
      "cell_type": "code",
      "metadata": {
        "colab": {
          "base_uri": "https://localhost:8080/"
        },
        "id": "jirk5D_WAdRp",
        "outputId": "8570d1c2-4c25-43df-85ac-a6381a4b1bc6"
      },
      "source": [
        "\n",
        "random_key = generate_key()\n",
        "\n",
        "prefix = b\"comment1=cooking%20MCs;userdata=\"\n",
        "suffix = b\";comment2=%20like%20a%20pound%20of%20bacon\"\n",
        "\n",
        "\n",
        "def bitflip(s):\n",
        "  cipher = encrypt_(s)\n",
        "  bitflip = xor(cipher[16:32],\n",
        "    xor(s, b\"uwuu;admin=true;\"))\n",
        "  return cipher[:16] + bitflip + cipher[32:]\n",
        "\n",
        "\n",
        "s = b'uwuuAadminAtrueA'\n",
        "bf = bitflip(s)\n",
        "print(unpadding_pkcs7(AES_decrypt(random_key, bf,'cbc'))[16:])\n",
        "print(is_admin(bf))"
      ],
      "execution_count": null,
      "outputs": [
        {
          "output_type": "stream",
          "text": [
            "b'i\\xeev\\x87\\x8c\\x8d|\\xbc{\\x91Du\\x1e\\xfa\\x1f\\xb5uwuu;admin=true;;comment2=%20like%20a%20pound%20of%20bacon'\n",
            "True\n"
          ],
          "name": "stdout"
        }
      ]
    },
    {
      "cell_type": "markdown",
      "metadata": {
        "id": "2Nc9gwjmJ5L3"
      },
      "source": [
        "##SET 03"
      ]
    },
    {
      "cell_type": "markdown",
      "metadata": {
        "id": "gXjwRwy_EGub"
      },
      "source": [
        "**Challenge 18** - implement CTR, the stream cipher mode"
      ]
    },
    {
      "cell_type": "code",
      "metadata": {
        "id": "zL7p9su468h3",
        "colab": {
          "base_uri": "https://localhost:8080/"
        },
        "outputId": "e083aa85-2b09-4e99-82b6-b9fb6269301c"
      },
      "source": [
        "\n",
        "\n",
        "#!pip install pycryptodome\n",
        "import binascii\n",
        "import base64\n",
        "import codecs\n",
        "import os\n",
        "from Crypto.Cipher import AES\n",
        "import random\n",
        "\n",
        "#==========================================\n",
        "\n",
        "def xor(first, second):\n",
        "  return bytes(x^y for x,y in zip(first, second))\n",
        "\n",
        "def AES_encrypt(key, content, mode):\n",
        "  cryptor = AES.new( key,AES.MODE_ECB)\n",
        "  last_block =b'\\x00' * 16\n",
        "  encrypted =b''\n",
        "  for i in range(0, len(content), 16):\n",
        "    last_block = cryptor.encrypt(xor(content[i : i + 16], last_block))\n",
        "    encrypted += last_block\n",
        "    if mode == 'ecb':\n",
        "      last_block = b'\\x00' * 16\n",
        "  return encrypted\n",
        "\n",
        "def AES_decrypt(key, content, mode):\n",
        "  cryptor = AES.new(key, AES.MODE_ECB)\n",
        "  last_block = b'\\x00' * 16\n",
        "  decrypted = b''\n",
        "  for i in range(0, len(content), 16):\n",
        "      decrypted += xor(cryptor.decrypt(content[i : i + 16]), last_block)\n",
        "      if mode == 'cbc':\n",
        "          last_block = content[i : i + 16]\n",
        "  return decrypted\n",
        "\n",
        "#===============================================\n",
        "\n",
        "\n",
        "def encrypt_CTR(key, cipher, iv = b'\\x00'*8 , nonce = 0):\n",
        "  ctr = b''\n",
        "  for i in range(0, len(cipher), 16):\n",
        "    block = cipher[i: i + 16]\n",
        "    current_iv = (nonce.to_bytes(8, byteorder ='big') + iv)[::-1] \n",
        "   \n",
        "    ctr += xor(block, AES_encrypt(key, current_iv, 'ecb'))\n",
        "    nonce+=1\n",
        "  return ctr\n",
        "\n",
        "#=================================================\n",
        "\n",
        "encrypt_CTR(b\"YELLOW SUBMARINE\",\n",
        "base64.b64decode('L77na/nrFsKvynd6HzOoG7GHTLXsTVu9qvY/2syLXzhPweyyMTJULu/6/kXX0KSvoOLSFQ=='))\n"
      ],
      "execution_count": null,
      "outputs": [
        {
          "output_type": "execute_result",
          "data": {
            "text/plain": [
              "b\"Yo, VIP Let's kick it Ice, Ice, baby Ice, Ice, baby \""
            ]
          },
          "metadata": {
            "tags": []
          },
          "execution_count": 84
        }
      ]
    },
    {
      "cell_type": "markdown",
      "metadata": {
        "id": "qWA7U_9OENRk"
      },
      "source": [
        "**Challenge 26** - CTR bitflipping"
      ]
    },
    {
      "cell_type": "code",
      "metadata": {
        "id": "6VkiM87GCX54"
      },
      "source": [
        "\n",
        "\n",
        "#all i did was edit that challenge 16 so dont ask me anything :(\n",
        "\n",
        "#!pip install pycryptodome\n",
        "import binascii\n",
        "import base64\n",
        "import codecs\n",
        "import os\n",
        "from Crypto.Cipher import AES\n",
        "import random\n",
        "\n",
        "#========================================\n",
        "def xor(first, second):\n",
        "  return bytes(x^y for x,y in zip(first, second))\n",
        "\n",
        "def AES_encrypt(key, content, mode):\n",
        "  cryptor = AES.new( key,AES.MODE_ECB)\n",
        "  last_block =b'\\x00' * 16\n",
        "  encrypted =b''\n",
        "  for i in range(0, len(content), 16):\n",
        "    last_block = cryptor.encrypt(xor(content[i : i + 16], last_block))\n",
        "    encrypted += last_block\n",
        "    if mode == 'ecb':\n",
        "      last_block = b'\\x00' * 16\n",
        "  return encrypted\n",
        "\n",
        "def AES_decrypt(key, content, mode):\n",
        "  cryptor = AES.new(key, AES.MODE_ECB)\n",
        "  last_block = b'\\x00' * 16\n",
        "  decrypted = b''\n",
        "  for i in range(0, len(content), 16):\n",
        "      decrypted += xor(cryptor.decrypt(content[i : i + 16]), last_block)\n",
        "      if mode == 'cbc':\n",
        "          last_block = content[i : i + 16]\n",
        "  return decrypted\n",
        "\n",
        "\n",
        "def padding_pkcs7(buffer, block_size):\n",
        "  padding = 0\n",
        "  if len(buffer) % block_size:\n",
        "      padding = (int(len(buffer) / block_size + 1) * block_size) - len(buffer)\n",
        "    # Padding size must be less than a byte\n",
        "  assert 0 <= padding <= 255\n",
        "  return buffer + bytes([padding]*padding)\n",
        "\n",
        "def unpadding_pkcs7(s):\n",
        "    if s[len(s)-s[-1]:] == s[-1:] * s[-1]: \n",
        "      return s[:-s[-1]]\n",
        "\n",
        "def generate_key():\n",
        "  return os.urandom(16)\n",
        "#=================================\n",
        "\n"
      ],
      "execution_count": null,
      "outputs": []
    },
    {
      "cell_type": "code",
      "metadata": {
        "id": "xRHDAItkCdiA"
      },
      "source": [
        "\n",
        "\n",
        "\n",
        "def encrypt_(s) -> bytes:\n",
        "  s = prefix + s.replace(b'=', b'').replace(b';', b'') + suffix\n",
        "  return encrypt_CTR(random_key, s)\n",
        "\n",
        "def is_admin(s: bytes) -> bool:\n",
        "    return b'admin=true' in encrypt_CTR(random_key, s)\n",
        "\n",
        "def bitflip(s):\n",
        "  cipher = encrypt_(s)\n",
        "  bitflip = xor(cipher[32:48], #the admin block itself\n",
        "    xor(s, b\"uwuu;admin=true;\"))\n",
        "  return cipher[:32] + bitflip + cipher[48:]\n",
        "\n",
        "def encrypt_CTR(key, cipher, iv = b'\\x00'*8 , nonce = 0):\n",
        "  rtrn = b''\n",
        "  for i in range(0, len(cipher), 16):\n",
        "    block = cipher[i: i + 16]\n",
        "    current_iv = (nonce.to_bytes(8, byteorder ='big') + iv)[::-1]\n",
        "    rtrn += xor(block, AES_encrypt(key, current_iv, 'ecb'))\n",
        "    nonce+=1\n",
        "  return rtrn\n",
        "#~~~~~~~~~~~~~~~~~~~~~~~"
      ],
      "execution_count": null,
      "outputs": []
    },
    {
      "cell_type": "code",
      "metadata": {
        "colab": {
          "base_uri": "https://localhost:8080/"
        },
        "id": "qHBaXOpOCi6X",
        "outputId": "9254b592-446a-402f-97ed-444e415894fb"
      },
      "source": [
        "\n",
        "random_key = generate_key()\n",
        "\n",
        "prefix = b\"comment1=cooking%20MCs;userdata=\"\n",
        "suffix = b\";comment2=%20like%20a%20pound%20of%20bacon\"\n",
        "\n",
        "\n",
        "s = b'uwuu;admin=true;'\n",
        "\n",
        "before = encrypt_(s)\n",
        "print(encrypt_CTR(random_key,before))\n",
        "print(is_admin(before))\n"
      ],
      "execution_count": null,
      "outputs": [
        {
          "output_type": "stream",
          "text": [
            "b'comment1=cooking%20MCs;userdata=uwuuadmintrue;comment2=%20like%20a%20pound%20of%20bacon'\n",
            "False\n"
          ],
          "name": "stdout"
        }
      ]
    },
    {
      "cell_type": "code",
      "metadata": {
        "colab": {
          "base_uri": "https://localhost:8080/"
        },
        "id": "rWSdHGBvYBT1",
        "outputId": "479e1c8c-a741-4b4d-db6f-da9d375ac412"
      },
      "source": [
        "\n",
        "\n",
        "\n",
        "s = b'uwuuAadminAtrueA'\n",
        "after = bitflip(s)\n",
        "print(encrypt_CTR(random_key,after))\n",
        "print(is_admin(after))\n"
      ],
      "execution_count": null,
      "outputs": [
        {
          "output_type": "stream",
          "text": [
            "b'comment1=cooking%20MCs;userdata=uwuu;admin=true;;comment2=%20like%20a%20pound%20of%20bacon'\n",
            "True\n"
          ],
          "name": "stdout"
        }
      ]
    },
    {
      "cell_type": "markdown",
      "metadata": {
        "id": "xPwNkLzjETrp"
      },
      "source": [
        "**Challenge 27** - Recover the key from CBC with IV=Key"
      ]
    },
    {
      "cell_type": "code",
      "metadata": {
        "id": "xhdm5-cwCshd"
      },
      "source": [
        "\n",
        "#!pip install pycryptodome\n",
        "import binascii\n",
        "import base64\n",
        "import codecs\n",
        "import os\n",
        "from Crypto.Cipher import AES\n",
        "import random\n",
        "\n",
        "\n",
        "\n",
        "\n",
        "#========================================\n",
        "def xor(first, second):\n",
        "  return bytes(x^y for x,y in zip(first, second))\n",
        "\n",
        "def AES_encrypt(key, content, mode):\n",
        "  cryptor = AES.new( key,AES.MODE_ECB)\n",
        "  last_block = key\n",
        "  encrypted =b''\n",
        "  for i in range(0, len(content), 16):\n",
        "    last_block = cryptor.encrypt(xor(content[i : i + 16], last_block))\n",
        "    encrypted += last_block\n",
        "  return encrypted\n",
        "\n",
        "\n",
        "def AES_decrypt(key, content, mode):\n",
        "  cryptor = AES.new(key, AES.MODE_ECB)\n",
        "  last_block = key\n",
        "  decrypted = b''\n",
        "  for i in range(0, len(content), 16):\n",
        "      decrypted += xor(cryptor.decrypt(content[i : i + 16]), last_block)\n",
        "      if mode == 'cbc':\n",
        "          last_block = content[i : i + 16]\n",
        "  return decrypted\n",
        "\n",
        "\n",
        "def padding_pkcs7(buffer, block_size):\n",
        "  padding = 0\n",
        "  if len(buffer) % block_size:\n",
        "      padding = int(len(buffer) / block_size + 1) * block_size - len(buffer)\n",
        "    # Padding size must be less than a byte\n",
        "  assert 0 <= padding <= 255\n",
        "  return buffer + bytes([padding]*padding)\n",
        "\n",
        "\n",
        "\n",
        "def unpadding_pkcs7(s):\n",
        "    if s[len(s)-s[-1]:] == s[-1:] * s[-1]: \n",
        "      return s[:-s[-1]]\n",
        "\n",
        "def generate_key():\n",
        "  return os.urandom(16)\n",
        "\n",
        "#==================================="
      ],
      "execution_count": null,
      "outputs": []
    },
    {
      "cell_type": "code",
      "metadata": {
        "colab": {
          "base_uri": "https://localhost:8080/"
        },
        "id": "BdiZ-eTB3VTa",
        "outputId": "2f72bceb-1d35-42ec-b88b-5d8277e5c216"
      },
      "source": [
        "\n",
        "\n",
        "\n",
        "\n",
        "random_key = generate_key()\n",
        "msg = b'A'*16 + b'B'*16 + b'C'*16\n",
        "print(msg)\n",
        "\n",
        "\n",
        "\n",
        "encrypted = AES_encrypt(random_key, msg, 'cbc')\n",
        "\n",
        "\n",
        "\n",
        "\n",
        "encrypted = encrypted[:16] + b'\\x00'*16 + encrypted [:16]\n",
        "\n",
        "\n",
        "attacking = AES_decrypt(random_key, encrypted, 'cbc')\n",
        "\n",
        "recover = xor(attacking[0:16], attacking[32:48])\n",
        "\n",
        "\n",
        "\n",
        "if AES_encrypt(recover, msg, 'cbc') ==  AES_encrypt(random_key, msg, 'cbc'):\n",
        "  print('key recovered successfully:\\n', recover)\n",
        "else:\n",
        "  print('failed to recover')"
      ],
      "execution_count": null,
      "outputs": [
        {
          "output_type": "stream",
          "text": [
            "b'AAAAAAAAAAAAAAAABBBBBBBBBBBBBBBBCCCCCCCCCCCCCCCC'\n",
            "key recovered successfully:\n",
            " b'\\x907\\x8e\\x91\\x00\\xad\\xc1h7\\xeb\\xd1\\xa7\\xb1\\x88\\xd8\\xa3'\n"
          ],
          "name": "stdout"
        }
      ]
    },
    {
      "cell_type": "markdown",
      "metadata": {
        "id": "6y5CnUaR5nrU"
      },
      "source": [
        "**Challenge 33** - Implement Diffie-Hellman"
      ]
    },
    {
      "cell_type": "code",
      "metadata": {
        "colab": {
          "base_uri": "https://localhost:8080/"
        },
        "id": "tyUcoZry5V3j",
        "outputId": "bd766a58-359b-4028-f243-9f7c59fa9dd4"
      },
      "source": [
        "import random\n",
        "\n",
        "p = 0xffffffffffffffffc90fdaa22168c234c4c6628b80dc1cd129024e088a67cc74020bbea63b139b22514a08798e3404ddef9519b3cd3a431b302b0a6df25f14374fe1356d6d51c245e485b576625e7ec6f44c42e9a637ed6b0bff5cb6f406b7edee386bfb5a899fa5ae9f24117c4b1fe649286651ece45b3dc2007cb8a163bf0598da48361c55d39a69163fa8fd24cf5f83655d23dca3ad961c62f356208552bb9ed529077096966d670c354e4abc9804f1746c08ca237327ffffffffffffffff\n",
        "g = 2\n",
        "q = p // 2 - 1\n",
        "\n",
        "a = random.randint(0, q - 1)\n",
        "A = pow(g,a,p)\n",
        "b = random.randint(0, q - 1)\n",
        "B = pow(g,b,p)\n",
        "\n",
        "print(f\"a = {a}\")\n",
        "print(f\"b = {b}\")\n",
        "print(f\"A = {A}\")\n",
        "print(f\"B = {B}\")\n",
        "\n",
        "sB = pow(B,a,p)\n",
        "sA = pow(A,b,p)\n",
        "\n",
        "if sA != sB:\n",
        "        print(\"Error occurred!\")\n",
        "print(f\"sA = {sA}\")"
      ],
      "execution_count": null,
      "outputs": [
        {
          "output_type": "stream",
          "text": [
            "a = 581318229531928184037987825166046568411107488613067520851552155733023152553498422661906520990077592104261546871638335483710272808559899502712916586208643002821101890488485164727553345530654986096751530022648332243149029416659676418523247884318912337760912714201284528635459846629167022352651826626006615126475460955950861105867370651385690231705345760431148116020537360594674405455812869061192142984500554397797334279049395043403828122845630404792303505680952959\n",
            "b = 1103684322651188555880570119260739174646714055629454730252322012923827364225789713161110602001159677074630339885434552451470732896336788914453482515429644046630511125750791431426112513047260313564678724248014087399013878056533717623452389442419340161573424164649505588907588706330753108532121043890820664797451252441456771173805408008873266952733750974102839006077433778150719732991495154514805145961433181690296989500071687718545148205538284909776317769797997065\n",
            "A = 370861799227791301074772519275112969315560268577496336625572035052173752723128625678610311460201238233071298263386966431343365783661315672380283635497893917524191233325918486761862547262930511303259917040580591398021642670626003427038094508575414054201117115245467689536244151353194343425165565432114961674796339043721219134862807409278181190696546768415619328288332587779141059474894308757992271900870965190232178205383553120190217823837383143651076011844349698\n",
            "B = 1288159311172676634131991973676246238835791382800538813349882213115421708675346254170091863780526946687742064711806334139135019194917216769484318546679971842724976276188168752882710173890773198474376071791748404856863300872695248574142033890715869070453002370756681375500512692371191577832861695055786635294599591099452384841932066955487959922943051165074938550851434846448086872510159484101637592981817668167940546790570109602625837257520402678307889450186438209\n",
            "sA = 1986310811452582430219922598706790555922322153308208689790959141655946707912066458111048029230115434236794178495128760314399411989247946930316891421759710226322880161391556036209176447267433136440064864905685214513227847241074328167512321035836982176063302539547273716657736788527601197680939533555106037034186407521072698494979995618282532230744045800545820990720975491276370623048834799940831074769831002565971184951460904551152213840967176756490723657513437784\n"
          ],
          "name": "stdout"
        }
      ]
    },
    {
      "cell_type": "markdown",
      "metadata": {
        "id": "DrpWW7gJ67H9"
      },
      "source": [
        "Additional requirement of this task is to build ourselves power function:"
      ]
    },
    {
      "cell_type": "code",
      "metadata": {
        "colab": {
          "base_uri": "https://localhost:8080/"
        },
        "id": "tRfY2f9T64J6",
        "outputId": "3ce4f23d-283c-4201-84a0-28e5e06d9ba4"
      },
      "source": [
        "def power(x, y, p):\n",
        "  res = 1\n",
        "  # Update x if it is more than or equal to p\n",
        "  x = x % p\n",
        "\n",
        "  while (y > 0):\n",
        "    # If y is odd, multiply x with result\n",
        "    if (y & 1):\n",
        "      res = (res * x) % p\n",
        "      # y must be even now\n",
        "      y = y>>1; # y = y/2\n",
        "      x = (x * x) % p\n",
        "  return res\n",
        "\n",
        "if power(5, 3, 37) == pow(5, 3, 37):\n",
        "  print('qualified')"
      ],
      "execution_count": null,
      "outputs": [
        {
          "output_type": "stream",
          "text": [
            "qualified\n"
          ],
          "name": "stdout"
        }
      ]
    },
    {
      "cell_type": "markdown",
      "metadata": {
        "id": "Z_R6xpbe-IBB"
      },
      "source": [
        "**Challenge 39** - Implement RSA"
      ]
    },
    {
      "cell_type": "markdown",
      "metadata": {
        "id": "72Rd91AH-U88"
      },
      "source": [
        "Firstly, implement 2 big prime numbers, qualified by miller-rabin algorithm:"
      ]
    },
    {
      "cell_type": "code",
      "metadata": {
        "id": "Hn-QDiRH5VLn"
      },
      "source": [
        "import random\n",
        "\n",
        "def millerTest(d, n):\n",
        "  a = 2 + random.randint(1, n - 4);\n",
        "  x = pow(a, d, n)\n",
        "  if (x == 1 or x == n - 1):\n",
        "    return True;\n",
        "  while (d != n - 1):\n",
        "    x = (x * x) % n\n",
        "    d *= 2;\n",
        "    if (x == 1):\n",
        "      return False\n",
        "    if (x == n - 1):\n",
        "      return True\n",
        "  return False\n",
        "\n",
        "\n",
        "def isPrime( n, k = 50):\n",
        "  if (n <= 1 or n == 4):\n",
        "    return False\n",
        "  if (n <= 3):\n",
        "    return True\n",
        "  d = n - 1;\n",
        "  while (d % 2 == 0):\n",
        "    d //= 2\n",
        "  for i in range(k):\n",
        "    if (millerTest(d, n) == False):\n",
        "      return False\n",
        "  return True\n",
        "\n",
        "\n",
        "def generate_odd_int(len):\n",
        "  return ((random.getrandbits(len*8))|(1<<len -1))|1\n",
        "\n",
        "def generate_prime(len):\n",
        "  p = generate_odd_int(len)\n",
        "  while not isPrime(p, k):\n",
        "    p = generate_odd_int(len)\n",
        "  return p\n",
        "\n"
      ],
      "execution_count": null,
      "outputs": []
    },
    {
      "cell_type": "markdown",
      "metadata": {
        "id": "V-xEJnF5_UJy"
      },
      "source": [
        "modulo-inverse to compute d:"
      ]
    },
    {
      "cell_type": "code",
      "metadata": {
        "colab": {
          "base_uri": "https://localhost:8080/"
        },
        "id": "6Oqun3AV5U79",
        "outputId": "586f20d7-52a0-4900-fcc5-437af42f0b7e"
      },
      "source": [
        "def invmod(e, _phi):\n",
        "  d = -1\n",
        "  y0, y1, phi = 0, 1, _phi\n",
        "  while (e > 0):\n",
        "    r = phi % e\n",
        "    if r == 0:\n",
        "      break\n",
        "    q = phi//e\n",
        "    d = y0 - y1*q\n",
        "\n",
        "    phi, e, y0, y1 = e, r, y1, d\n",
        "  while d < 0:\n",
        "    d = d + _phi\n",
        "  return d\n",
        "\n",
        "#e.g:\n",
        "\n",
        "print(invmod(65537,4145748157138759360))"
      ],
      "execution_count": null,
      "outputs": [
        {
          "output_type": "stream",
          "text": [
            "3865388118802567873\n"
          ],
          "name": "stdout"
        }
      ]
    },
    {
      "cell_type": "code",
      "metadata": {
        "id": "Db7RvTSnR27O"
      },
      "source": [
        "def RSA_cipher(msg, PU):\n",
        "  return pow(msg,PU[0], PU[1])"
      ],
      "execution_count": null,
      "outputs": []
    },
    {
      "cell_type": "code",
      "metadata": {
        "id": "CsTaJLF4W-0p"
      },
      "source": [
        "k = 50\n",
        "\n",
        "p = generate_prime(256)\n",
        "q = generate_prime(256)\n",
        "while p == q: q = generate_prime(256)\n",
        "#e = generate_relative_prime(p,q)\n",
        "\n",
        "n = p*q\n",
        "phi = (p-1)*(q-1)\n",
        "\n",
        "e = 3\n",
        "d = invmod(3, phi)\n",
        "PU = (e, n)\n",
        "PR = (d, n)"
      ],
      "execution_count": null,
      "outputs": []
    },
    {
      "cell_type": "code",
      "metadata": {
        "colab": {
          "base_uri": "https://localhost:8080/"
        },
        "id": "PKu3NxyiHyc2",
        "outputId": "40b65111-5f3f-49c4-b49a-f94dfbf98cdc"
      },
      "source": [
        "\n",
        "message = \"The University of Information Technology\"\n",
        "print(f'original message:  {message}')\n",
        "message = int(message.encode('utf-8').hex(), 16)\n",
        "\n",
        "en = RSA_cipher(message, PU)\n",
        "de = RSA_cipher(en,PR)\n",
        "\n",
        "de = hex(de)[2:]\n",
        "print(f'encrypted message: {en}')\n",
        "print(f'decrypted message: {de}')\n",
        "print(f'recovered message: {bytearray.fromhex(de).decode()}')\n"
      ],
      "execution_count": null,
      "outputs": [
        {
          "output_type": "stream",
          "text": [
            "original message:  The University of Information Technology\n",
            "encrypted message: 349320101287431902690575625957890278004172188544879664065955925932979766873730870723193735721924684335223291421859359152996656405528831815483687170454911750815191268403758166870698430990219525822450024839679750898489453478074097108276310488681309588320208230805220191268017674316355939625\n",
            "decrypted message: 54686520556e6976657273697479206f6620496e666f726d6174696f6e20546563686e6f6c6f6779\n",
            "recovered message: The University of Information Technology\n"
          ],
          "name": "stdout"
        }
      ]
    },
    {
      "cell_type": "markdown",
      "metadata": {
        "id": "-8o2sW7EnLZ7"
      },
      "source": [
        "**Challenge 40 - Implement an E=3 RSA Broadcast attack**"
      ]
    },
    {
      "cell_type": "code",
      "metadata": {
        "id": "V8uv8PJOqlJT"
      },
      "source": [
        "def genKey(size):\n",
        "  k = 50\n",
        "  p = generate_prime(size)\n",
        "  q = generate_prime(size)\n",
        "\n",
        "  while p == q: q = generate_prime(size)\n",
        "  \n",
        "  n = p*q\n",
        "  phi = (p-1)*(q-1)\n",
        "  e = 3\n",
        "  d = modinv(3, phi)\n",
        "  PU = (e, n)\n",
        "  PR = (d, n)\n",
        "  return PU, PR"
      ],
      "execution_count": null,
      "outputs": []
    },
    {
      "cell_type": "code",
      "metadata": {
        "id": "tWCJymjts-z0"
      },
      "source": [
        "(pub0, priv0) = genKey(128)\n",
        "(pub1, priv1) = genKey(128)\n",
        "(pub2, priv2) = genKey(128)"
      ],
      "execution_count": null,
      "outputs": []
    },
    {
      "cell_type": "code",
      "metadata": {
        "colab": {
          "base_uri": "https://localhost:8080/"
        },
        "id": "39bYaFI-nKn-",
        "outputId": "eddced05-01fb-4adb-e307-f6821c4646fa"
      },
      "source": [
        "\n",
        "import math\n",
        "plaintext = 'cryptography is very difficult'\n",
        "plainnum = int(plaintext.encode('utf-8').hex(), 16)\n",
        "\n",
        "c0 = RSA_cipher(plainnum, pub0)\n",
        "c1 = RSA_cipher(plainnum, pub1)\n",
        "c2 = RSA_cipher(plainnum, pub2)\n",
        "\n",
        "n0 = pub0[1]\n",
        "n1 = pub1[1]\n",
        "n2 = pub2[1]\n",
        "\n",
        "ms0 = n1 * n2\n",
        "ms1 = n0 * n2\n",
        "ms2 = n0 * n1\n",
        "\n",
        "N = n0 * n1 * n2\n",
        "\n",
        "r0 = (c0 * ms0 * invmod(ms0, n0))\n",
        "r1 = (c1 * ms1 * invmod(ms1, n1))\n",
        "r2 = (c2 * ms2 * invmod(ms2, n2))\n",
        "\n",
        "r = (r0 + r1 + r2) % N\n",
        "\n",
        "def floor_Root(n, s):\n",
        "    b = n.bit_length()\n",
        "    p = math.ceil(b/s)\n",
        "    x = 2**p\n",
        "    while x > 1:\n",
        "        y = (((s - 1) * x) + (n // (x**(s-1)))) // s\n",
        "        if y >= x:\n",
        "            return x\n",
        "        x = y\n",
        "    return 1\n",
        "\n",
        "m = floor_Root(r, 3)\n",
        "mstr = bytearray.fromhex(hex(m)[2:]).decode()\n",
        "\n",
        "if mstr != plaintext:\n",
        "  raise Exception(mstr + b' != ' + plaintext)\n",
        "\n",
        "print(mstr)"
      ],
      "execution_count": null,
      "outputs": [
        {
          "output_type": "stream",
          "text": [
            "cryptography is very difficult\n"
          ],
          "name": "stdout"
        }
      ]
    },
    {
      "cell_type": "markdown",
      "metadata": {
        "id": "PqFBMBdGpy81"
      },
      "source": [
        "#Rootmee Challenges\n"
      ]
    },
    {
      "cell_type": "markdown",
      "metadata": {
        "id": "J4m3AgKlvdEk"
      },
      "source": [
        "ROOTme"
      ]
    },
    {
      "cell_type": "markdown",
      "metadata": {
        "id": "CGxss_edEylO"
      },
      "source": [
        "**Encoding ASCII**"
      ]
    },
    {
      "cell_type": "code",
      "metadata": {
        "colab": {
          "base_uri": "https://localhost:8080/"
        },
        "id": "GNoKSjyjDQN0",
        "outputId": "c9f21b80-9747-44bc-e0e4-ef8b019f3dd9"
      },
      "source": [
        "\n",
        "import binascii\n",
        "\n",
        "v = b'495f6c3076335f4372797074305f3a29'\n",
        "\n",
        "v = binascii.unhexlify(v)\n",
        "\n",
        "print(v)"
      ],
      "execution_count": null,
      "outputs": [
        {
          "output_type": "stream",
          "text": [
            "b'I_l0v3_Crypt0_:)'\n"
          ],
          "name": "stdout"
        }
      ]
    },
    {
      "cell_type": "code",
      "metadata": {
        "id": "YdyfIdAVE9pm"
      },
      "source": [
        ""
      ],
      "execution_count": null,
      "outputs": []
    },
    {
      "cell_type": "markdown",
      "metadata": {
        "id": "JPzvn-EGqySi"
      },
      "source": [
        "**PIXELS MADNESS**"
      ]
    },
    {
      "cell_type": "code",
      "metadata": {
        "id": "ROFSK92CddIp",
        "colab": {
          "base_uri": "https://localhost:8080/"
        },
        "outputId": "38f6fb7e-3e9b-445d-a750-e868810350a8"
      },
      "source": [
        "import requests\n",
        "\n",
        "result=\"\"\n",
        "#lines = requests.get('http://challenge01.root-me.org/cryptanalyse/ch4').text\n",
        "\n",
        "lines =\"0x3+1x1+0x1+0x1+0x7+1x2+0x15+1x1+0x8+1x1+0x8+1x1+0x1+1x1+0x1+1x1+0x1+1x1+0x1+1x1+0x3+1x1+0x1+1x1+0x3+1x1+0x1+1x4+0x2+1x1+0x25\\n0x2+1x1+0x4+1x1+0x4+1x3+0x1+1x2+0x2+1x8+0x11+1x4+0x1+1x3+0x6+1x2+0x4+1x1+0x4+1x2+0x7+1x4+0x4+1x2+0x7+1x2+0x3+1x2+0x3\\n0x3+1x1+0x2+1x1+0x2+1x1+0x11+1x2+0x2+1x3+0x7+1x1+0x4+1x2+0x2+1x2+0x7+1x1+0x6+1x1+0x2+1x1+0x4+1x3+0x1+1x1+0x4+1x1+0x2+1x1+0x2+1x1+0x3+1x1+0x2+1x3+0x2+1x2+0x3\\n1x1+0x2+1x1+0x4+1x1+0x2+1x1+0x1+1x1+0x2+1x1+0x2+1x1+0x1+1x2+0x2+1x2+0x1+1x2+0x3+1x1+0x3+1x1+0x2+1x2+0x1+1x3+0x3+1x1+0x2+1x1+0x4+1x2+0x1+1x1+0x4+1x1+0x3+1x2+0x12+1x2+0x1+1x1+0x3+1x7+0x3\\n0x3+1x1+0x7+1x1+0x1+1x1+0x4+1x1+0x2+1x2+0x2+1x2+0x4+1x1+0x2+1x1+0x1+1x2+0x1+1x8+0x1+1x1+0x4+1x1+0x5+1x1+0x3+1x2+0x2+1x1+0x1+1x2+0x2+1x1+0x3+1x2+0x9+1x1+0x1+1x2+0x2+1x3+0x2+1x1\\n0x7+1x1+0x4+1x1+0x4+1x1+0x1+1x1+0x1+1x7+0x3+1x1+0x1+1x2+0x3+1x1+0x1+1x6+0x1+1x1+0x3+1x1+0x2+1x1+0x14+1x2+0x8+1x1+0x10+1x2+0x3+1x2+0x1+1x1+0x1\\n0x6+1x5+0x4+1x1+0x7+1x1+0x2+1x1+0x3+1x2+0x4+1x1+0x8+1x1+0x3+1x2+0x1+1x2+0x3+1x1+0x8+1x1+0x2+1x2+0x1+1x1+0x3+1x7+0x5+1x2+0x2+1x1+0x2+1x2+0x3\\n0x1+1x1+0x2+1x1+0x1+1x2+0x5+1x1+0x6+1x2+0x3+1x1+0x2+1x1+0x1+1x2+0x20+1x8+0x1+1x1+0x1+1x1+0x4+1x2+0x3+1x1+0x2+1x2+0x3+1x2+0x7+1x2+0x3+1x2+0x4\\n0x2+1x1+0x3+1x5+0x5+1x2+0x7+1x1+0x4+1x2+0x2+1x1+0x2+1x2+0x1+1x1+0x3+1x1+0x6+1x2+0x2+1x2+0x3+1x2+0x2+1x3+0x1+1x1+0x6+1x3+0x3+1x5+0x3+1x1+0x4+1x1+0x5\\n0x4+1x2+0x3+1x2+0x3+1x1+0x5+1x2+0x2+1x1+0x1+1x1+0x1+1x1+0x1+1x2+0x9+1x1+0x3+1x1+0x2+1x1+0x1+1x1+0x2+1x1+0x1+1x2+0x2+1x1+0x2+1x1+0x1+1x1+0x4+1x3+0x1+1x1+0x2+1x2+0x3+1x2+0x3+1x1+0x5+1x1+0x4+1x1+0x2\\n0x6+1x5+0x4+1x1+0x1+1x1+0x2+1x2+0x6+1x1+0x1+1x7+0x4+1x3+0x3+1x1+0x4+1x1+0x2+1x2+0x4+1x1+0x6+1x1+0x6+1x8+0x3+1x1+0x5+1x1+0x7\\n0x2+1x1+0x3+1x6+0x4+1x1+0x1+1x3+0x4+1x1+0x2+1x2+0x4+1x1+0x5+1x1+0x2+1x1+0x3+1x2+0x3+1x1+0x2+1x3+0x1+1x1+0x2+1x2+0x3+1x3+0x2+1x3+0x9+1x1+0x4+1x2+0x7+1x2\"\n",
        "lists = lines.split(\"\\n\")\n",
        "\n",
        "for i in range(len(lists)):\n",
        "  lists[i] = lists[i].split(\"+\")\n",
        "  for j in range(len(lists[i])):\n",
        "    result+= lists[i][j][0] * int(lists[i][j][2:])\n",
        "  result+=\"\\n\"\n",
        "result = result.replace(\"0\",\" \")\n",
        "result = result.replace(\"1\",\"█\")\n",
        "print(result)\n",
        "\n"
      ],
      "execution_count": null,
      "outputs": [
        {
          "output_type": "stream",
          "text": [
            "   █         ██               █        █        █ █ █ █ █   █ █   █ ████  █                         \n",
            "  █    █    ███ ██  ████████           ████ ███      ██    █    ██       ████    ██       ██   ██   \n",
            "   █  █  █           ██  ███       █    ██  ██       █      █  █    ███ █    █  █  █   █  ███  ██   \n",
            "█  █    █  █ █  █  █ ██  ██ ██   █   █  ██ ███   █  █    ██ █    █   ██            ██ █   ███████   \n",
            "   █       █ █    █  ██  ██    █  █ ██ ████████ █    █     █   ██  █ ██  █   ██         █ ██  ███  █\n",
            "       █    █    █ █ ███████   █ ██   █ ██████ █   █  █              ██        █          ██   ██ █ \n",
            "      █████    █       █  █   ██    █        █   ██ ██   █        █  ██ █   ███████     ██  █  ██   \n",
            " █  █ ██     █      ██   █  █ ██                    ████████ █ █    ██   █  ██   ██       ██   ██    \n",
            "  █   █████     ██       █    ██  █  ██ █   █      ██  ██   ██  ███ █      ███   █████   █    █     \n",
            "    ██   ██   █     ██  █ █ █ ██         █   █  █ █  █ ██  █  █ █    ███ █  ██   ██   █     █    █  \n",
            "      █████    █ █  ██      █ ███████    ███   █    █  ██    █      █      ████████   █     █       \n",
            "  █   ██████    █ ███    █  ██    █     █  █   ██   █  ███ █  ██   ███  ███         █    ██       ██\n",
            "\n"
          ],
          "name": "stdout"
        }
      ]
    },
    {
      "cell_type": "markdown",
      "metadata": {
        "id": "zeVbQEmjZT_I"
      },
      "source": [
        "**root-me ZIP file**\n",
        "\n",
        "\n",
        "> consider before hitting run button!\n",
        ">> take about 36 mins\n",
        "\n"
      ]
    },
    {
      "cell_type": "code",
      "metadata": {
        "id": "ZNlFJ3aRvOXH",
        "colab": {
          "base_uri": "https://localhost:8080/"
        },
        "outputId": "b0f1fe30-972b-4c8e-db76-8dd3885e3fbe"
      },
      "source": [
        "import zipfile\n",
        "from itertools import product\n",
        "CHARACTERS = \n",
        "'1234567890abcdefghijklmnopqrstuvwxyzABCDEFGHIJKLMNOPQRSTUVWXYZ!@#$%^&*()'\n",
        "\n",
        "def Brute(zipFile,password):\n",
        "    # Thử giải nén file zip\n",
        "    try:\n",
        "        zipFile.extractall(pwd=password.encode())\n",
        "        print ('Password:',password)\n",
        "        return True\n",
        "    except:\n",
        "        pass\n",
        "\n",
        "def main():\n",
        "    # File zip cần crack\n",
        "    zipFile = zipfile.ZipFile('ch5.zip')\n",
        "    length = 3\n",
        "\n",
        "    # Lặp cho đến khi tìm ra pass\n",
        "    while True:\n",
        "        # Tạo list pass\n",
        "        listPass = product(CHARACTERS, repeat=length)\n",
        "        for tryPass in listPass:\n",
        "            password = ''.join(tryPass)\n",
        "            # Nếu password đúng thì return\n",
        "            if Brute(zipFile,password):\n",
        "                return\n",
        "        # Nếu list pass sai, tăng độ dài kí tự trong list lên 1\n",
        "        length += 1\n",
        "\n",
        "main()"
      ],
      "execution_count": null,
      "outputs": [
        {
          "output_type": "stream",
          "text": [
            "Password: 14535\n"
          ],
          "name": "stdout"
        }
      ]
    },
    {
      "cell_type": "markdown",
      "metadata": {
        "id": "K-gf5mT3w3Tw"
      },
      "source": [
        "**root-me: Discrete logarithm problem**"
      ]
    },
    {
      "cell_type": "code",
      "metadata": {
        "colab": {
          "base_uri": "https://localhost:8080/"
        },
        "id": "6RordJghwX4C",
        "outputId": "bdbb46b0-850c-49a7-99c5-f148481e0c03"
      },
      "source": [
        "from sympy.ntheory.residue_ntheory import discrete_log\n",
        "\n",
        "p = 7863166752583943287208453249445887802885958578827520225154826621191353388988908983484279021978114049838254701703424499688950361788140197906625796305008451719\n",
        "\n",
        "y = 6289736695712027841545587266292164172813699099085672937550442102159309081155467550411414088175729823598108452032137447608687929628597035278365152781494883808\n",
        "\n",
        "g = 2862392356922936880157505726961027620297475166595443090826668842052108260396755078180089295033677131286733784955854335672518017968622162153227778875458650593\n",
        "\n",
        "#log_g(y)(mod p)>> discrete_log(modulo, f(x), base)\n",
        "\n",
        "print(discrete_log(p, y, g))"
      ],
      "execution_count": null,
      "outputs": [
        {
          "output_type": "stream",
          "text": [
            "5984395521967467346233654974364351165422250974773836380349996370549071399526484130546437803585190342858690941215911884205493540794098544612334027224908987632\n"
          ],
          "name": "stdout"
        }
      ]
    },
    {
      "cell_type": "markdown",
      "metadata": {
        "id": "MvxUAxCNi06_"
      },
      "source": [
        "**RSA - Factorisation**\n",
        "\n",
        "---\n",
        "\n",
        "\n"
      ]
    },
    {
      "cell_type": "markdown",
      "metadata": {
        "id": "9T_aW_btcfV1"
      },
      "source": [
        "**Android Pattern**"
      ]
    },
    {
      "cell_type": "code",
      "metadata": {
        "colab": {
          "base_uri": "https://localhost:8080/"
        },
        "id": "nH1vMeJrcenv",
        "outputId": "e941f90e-07e6-4f0c-afb4-be559256710d"
      },
      "source": [
        "import hashlib\n",
        "\n",
        "varchar = [b'\\x00', b'\\x01', b'\\x02', b'\\x03', b'\\x04', b'\\x05',\\\n",
        "           b'\\x06', b'\\x07', b'\\x08']\n",
        "\n",
        "def make_paths(path):\n",
        "  if len(path) >= 4:\n",
        "    key = hashlib.sha1(path).hexdigest()\n",
        "    if key == '2c3422d33fb9dd9cde87657408e48f4e635713cb': print(path)\n",
        "\n",
        "  for x in varchar:\n",
        "    if x not in path:\n",
        "      make_paths(path + x)\n",
        "\n",
        "for x in varchar:\n",
        "  make_paths(x)"
      ],
      "execution_count": null,
      "outputs": [
        {
          "output_type": "stream",
          "text": [
            "b'\\x01\\x04\\x05\\x02\\x06\\x03\\x07\\x08\\x00'\n"
          ],
          "name": "stdout"
        }
      ]
    },
    {
      "cell_type": "markdown",
      "metadata": {
        "id": "x6riRJuQS5yR"
      },
      "source": [
        "**RSA Decipher Oracle**"
      ]
    },
    {
      "cell_type": "code",
      "metadata": {
        "colab": {
          "base_uri": "https://localhost:8080/"
        },
        "id": "sI6f8_PvHOnY",
        "outputId": "c76b0978-4cd9-4ab2-b899-2d6541259167"
      },
      "source": [
        "#RSA Decipher Oracle\n",
        "\n",
        "import binascii\n",
        "\n",
        "n=456378902858290907415273676326459758501863587455889046415299414290812776158851091008643992243505529957417209835882169153356466939122622249355759661863573516345589069208441886191855002128064647429111920432377907516007825359999\n",
        "e=65537\n",
        "c=41662410494900335978865720133929900027297481493143223026704112339997247425350599249812554512606167456298217619549359408254657263874918458518753744624966096201608819511858664268685529336163181156329400702800322067190861310616\n",
        "\n",
        "#m1=x*m\n",
        "\n",
        "x=2 \n",
        "#let x = 2 => m1 = 2m\n",
        "\n",
        "c1=(c*(pow(x,e)%n))%n\n",
        "print(f'c1 = {c1}')\n",
        "m1=1458414996286361336171022694278618963923904557163518886908519150023343172644758356895532151523030\n",
        "\n",
        "m=m1//2\n",
        "\n",
        "plaint_text=hex(m)[2:]\n",
        "\n",
        "print({unhexlify(plaint_text)})\n",
        "\n"
      ],
      "execution_count": null,
      "outputs": [
        {
          "output_type": "stream",
          "text": [
            "c1 = 403296171084342476768865695356366867028721291703463042604833158549700921098944787236538386192787597217497633027002405570169368914694506837480478155549447010226246552469758067511418934029487541661784304031658335361724392752997\n",
            "{b'Well done! The flag is S1d3Ch4nn3l4tt4ck'}\n"
          ],
          "name": "stdout"
        }
      ]
    },
    {
      "cell_type": "markdown",
      "metadata": {
        "id": "h6FJfACuk07K"
      },
      "source": [
        "**RSA - Factorisation**"
      ]
    },
    {
      "cell_type": "code",
      "metadata": {
        "colab": {
          "base_uri": "https://localhost:8080/"
        },
        "id": "jPydcQWlHbTb",
        "outputId": "73443814-629d-4e28-8877-6f857bc71f0b"
      },
      "source": [
        "!pip install pycryptodome\n",
        "#RSA - Factorisation\n",
        "import base64\n",
        "import binascii\n",
        "from binascii import hexlify,unhexlify\n",
        "\n",
        "def modinv(e, _phi):\n",
        "  d = -1\n",
        "  y0, y1, phi = 0, 1, _phi\n",
        "  while (e > 0):\n",
        "    r = phi % e\n",
        "    if r == 0:\n",
        "      break\n",
        "    q = phi//e\n",
        "    d = y0 - y1*q\n",
        "    phi, e, y0, y1 = e, r, y1, d\n",
        "  while d < 0:\n",
        "    d = d + _phi\n",
        "  return d\n"
      ],
      "execution_count": null,
      "outputs": [
        {
          "output_type": "stream",
          "text": [
            "Requirement already satisfied: pycryptodome in /usr/local/lib/python3.7/dist-packages (3.10.1)\n"
          ],
          "name": "stdout"
        }
      ]
    },
    {
      "cell_type": "code",
      "metadata": {
        "id": "oC-4Ldo2ErAG"
      },
      "source": [
        "#!pip install factordb-pycli\n",
        "from factordb.factordb import FactorDB\n",
        "n = (int('00c2cbb24fdbf923b61268e3f11a3896de4574b3ba58730cbd652938864e2223eeeb704a17cfd08d16b46891a61474759939c6e49aafe7f2595548c74c1d7fb8d24cd15cb23b4cd0a3',16))\n",
        "f=FactorDB(n)\n",
        "f.connect()\n",
        "fctr_list = f.get_factor_list()\n",
        "\n",
        "p= fctr_list[0]\n",
        "q = fctr_list[1]\n"
      ],
      "execution_count": null,
      "outputs": []
    },
    {
      "cell_type": "code",
      "metadata": {
        "colab": {
          "base_uri": "https://localhost:8080/"
        },
        "id": "j9xlkUz09h42",
        "outputId": "e8bf9cfe-cdcc-48f3-abb8-8e685e0cadd0"
      },
      "source": [
        "n = (int('00c2cbb24fdbf923b61268e3f11a3896de4574b3ba58730cbd652938864e2223eeeb704a17cfd08d16b46891a61474759939c6e49aafe7f2595548c74c1d7fb8d24cd15cb23b4cd0a3',16))\n",
        "e = int('10001', 16)\n",
        "\n",
        "phi = (p-1)*(q-1)\n",
        "d = modinv(e,phi)\n",
        "\n",
        "c = base64.b64decode(\"e8oQDihsmkvjT3sZe+EE8lwNvBEsFegYF6+OOFOiR6gMtMZxxba/bIgLUD8pV3yEf0gOOfHuB5bC3vQmo7bE4PcIKfpFGZBA\")\n",
        "\n",
        "cipher = int(hexlify(c),16)\n",
        "\n",
        "plaintext = pow(cipher,d,n)\n",
        "\n",
        "plaintext = hex(plaintext)[2:]\n",
        "\n",
        "if len(plaintext)%2:\n",
        "        plaintext=\"0\"+plaintext\n",
        "\n",
        "print(plaintext)\n",
        "print(binascii.a2b_hex(plaintext)[-15:-1])"
      ],
      "execution_count": null,
      "outputs": [
        {
          "output_type": "stream",
          "text": [
            "02159b07401a5dfe9326a7a8dc5471ed8d3f93a65616db0916aecf1332550254fed5416522689e476b02141dee60522186e06065ffd8f0007570326c36446e6149685a6778410a\n",
            "b'up2l6DnaIhZgxA'\n"
          ],
          "name": "stdout"
        }
      ]
    }
  ]
}